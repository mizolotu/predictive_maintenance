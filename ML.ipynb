{
 "cells": [
  {
   "cell_type": "markdown",
   "metadata": {
    "tags": []
   },
   "source": [
    "# Machine learning modeling"
   ]
  },
  {
   "cell_type": "code",
   "execution_count": 1,
   "metadata": {},
   "outputs": [],
   "source": [
    "#the used packages\n",
    "from warnings import filterwarnings\n",
    "filterwarnings(\"ignore\")\n",
    "\n",
    "# data visualisation and manipulation\n",
    "import pandas as pd\n",
    "import numpy as np\n",
    "import time\n",
    "import seaborn as sns\n",
    "import matplotlib.pyplot as plt\n",
    "\n",
    "# Data preparation.\n",
    "from sklearn import preprocessing\n",
    "from sklearn.preprocessing import MinMaxScaler\n",
    "from sklearn.preprocessing import  LabelEncoder\n",
    "from statsmodels.graphics.mosaicplot import mosaic\n",
    "from sklearn.model_selection import train_test_split\n",
    "from sklearn.preprocessing import OneHotEncoder\n",
    "from sklearn.compose import ColumnTransformer\n",
    "\n",
    "# Evaluation.\n",
    "from sklearn.metrics import classification_report\n",
    "from sklearn.metrics import confusion_matrix, ConfusionMatrixDisplay\n",
    "\n",
    "\n",
    "#classifiaction models.\n",
    "from xgboost import XGBClassifier\n",
    "from sklearn.neighbors import KNeighborsClassifier\n",
    "from sklearn.ensemble import RandomForestClassifier\n",
    "from sklearn.linear_model import LogisticRegression"
   ]
  },
  {
   "cell_type": "markdown",
   "metadata": {},
   "source": [
    "# Helper Function"
   ]
  },
  {
   "cell_type": "code",
   "execution_count": 2,
   "metadata": {},
   "outputs": [],
   "source": [
    "def change_into_Datetime(df,col):\n",
    "    '''\n",
    "    This function takes a data frame and a column and change the type of column to timestamp. \n",
    "    '''\n",
    "    df[col] = pd.to_datetime(df[col], format=\"%Y-%m-%d %H:%M:%S\")\n",
    "    return (df[col].dtypes)"
   ]
  },
  {
   "cell_type": "code",
   "execution_count": 3,
   "metadata": {},
   "outputs": [],
   "source": [
    "def set_sort_datetime_index(df):\n",
    "    '''\n",
    "    This function take a data frame, sort it by datetime column, set the datetime column as index.\n",
    "    '''\n",
    "    df.set_index('datetime', inplace=True)\n",
    "    df.sort_index(ascending=True, inplace=True)\n",
    "    return df.head(5)"
   ]
  },
  {
   "cell_type": "code",
   "execution_count": 4,
   "metadata": {},
   "outputs": [],
   "source": [
    "def rename_df_col(df,suffix):\n",
    "    '''\n",
    "    this function change the column's name in a data frame by adding a suffix.\n",
    "    '''\n",
    "    old_names=list(df.columns)\n",
    "    new_names= [i + suffix for i in old_names]\n",
    "    name_dic={old_names[i]: new_names[i] for i in range(len(old_names))}\n",
    "    return df.rename(columns = name_dic, inplace = True)\n",
    "    "
   ]
  },
  {
   "cell_type": "code",
   "execution_count": 5,
   "metadata": {},
   "outputs": [],
   "source": [
    "def classification_report_heatmap(y_test,y_pred, model_name=\"\"):\n",
    "    '''\n",
    "    this function for display classification report heat map \n",
    "    '''\n",
    "    color=[\"#845EC2\", \"#D65DB1\", \"#FF6F91\", \"#FF9671\", \"#FFC75F\", \"#008F7A\", \"#F9F871\"]\n",
    "    y_lable=['No_failure', 'comp1', 'comp2', 'comp3', 'comp4','micro avg','macro avg','weighted avg','samples avg']\n",
    "    plt.figure(figsize=(9, 4), facecolor='white')\n",
    "    plt.title(f\"{model_name} Classification Report Heat Map\")\n",
    "    cr=classification_report(y_test,y_pred, output_dict=True)\n",
    "    sns.heatmap(pd.DataFrame(cr).iloc[:-1].T, annot=True, cmap=color, yticklabels=y_lable);\n",
    "    return cr"
   ]
  },
  {
   "cell_type": "code",
   "execution_count": 6,
   "metadata": {},
   "outputs": [],
   "source": [
    "def confusion_matrix_display(y_pred, y_test,model_name):\n",
    "    '''\n",
    "    this function for display the confusion matrix.\n",
    "\n",
    "    '''\n",
    "    labels=['No_failure', 'comp1', 'comp2', 'comp3', 'comp4']\n",
    "    fig, ax = plt.subplots(figsize=(6, 6), facecolor='white')\n",
    "    ConfusionMatrixDisplay.from_predictions(y_test, y_pred,display_labels=labels,ax=ax);\n",
    "    ax.set_title(f\"{model_name} Classification Confusion Matrix\")"
   ]
  },
  {
   "cell_type": "code",
   "execution_count": 7,
   "metadata": {
    "tags": []
   },
   "outputs": [],
   "source": [
    "def comp_failure_scores(models, crs, metric):\n",
    "    '''\n",
    "    this function compare one metric of two different models. It takes the classification report of the models and return the metric of these models as a data frame.\n",
    "\n",
    "    ''' \n",
    "    ftsdf = pd.DataFrame({\n",
    "        \"Model\": models,\n",
    "        \"No Failure\": [pd.DataFrame(cr)[\"0\"][metric] for cr in crs],\n",
    "        \"comp 1\": [pd.DataFrame(cr)[\"1\"][metric] for cr in crs],\n",
    "        \"comp 2\": [pd.DataFrame(cr)[\"2\"][metric] for cr in crs],\n",
    "        \"comp 3\": [pd.DataFrame(cr)[\"3\"][metric] for cr in crs],\n",
    "        \"comp 4\": [pd.DataFrame(cr)[\"4\"][metric] for cr in crs]\n",
    "    })\n",
    "    \n",
    "    return ftsdf"
   ]
  },
  {
   "cell_type": "code",
   "execution_count": null,
   "metadata": {},
   "outputs": [],
   "source": []
  },
  {
   "cell_type": "markdown",
   "metadata": {},
   "source": [
    "# Data loading"
   ]
  },
  {
   "cell_type": "code",
   "execution_count": 8,
   "metadata": {},
   "outputs": [],
   "source": [
    "#loading the data\n",
    "df_telemetry=pd.read_csv('data/PdM_telemetry.csv')\n",
    "df_errors=pd.read_csv('data/PdM_errors.csv')\n",
    "df_maint=pd.read_csv('data/PdM_maint.csv')\n",
    "df_failures=pd.read_csv('data/PdM_failures.csv')\n",
    "df_machines=pd.read_csv('data/PdM_machines.csv')"
   ]
  },
  {
   "cell_type": "code",
   "execution_count": 9,
   "metadata": {},
   "outputs": [],
   "source": [
    "dataframes=[df_telemetry,df_errors,df_maint,df_failures]\n",
    "for df in dataframes:\n",
    "    change_into_Datetime(df,'datetime')"
   ]
  },
  {
   "cell_type": "markdown",
   "metadata": {
    "tags": []
   },
   "source": [
    "# Feature  selecting"
   ]
  },
  {
   "cell_type": "markdown",
   "metadata": {},
   "source": [
    "The feature data will have a recored every 4 hours and it will containe:\n",
    "- Statistical summary for each of the volt, rotate, pressure and vibration of the last four hours. That is the mininum, maximun , median and the main of the last four hours.\n",
    "- Similar statistical summary but for the last 24 hours.\n",
    "- Age of the machine.\n",
    "- Model of the machine. \n",
    "- Total number of each errorID in the last 24 hours.\n",
    "- The age of the componant i.e. hours since the last change."
   ]
  },
  {
   "cell_type": "code",
   "execution_count": 10,
   "metadata": {},
   "outputs": [],
   "source": [
    "#creat lag features for volt, rotate, pressure, vibration for last 4 hours and 24 hours.\n",
    "feature_window_1= '4h' # for resample\n",
    "feature_window_2= 24"
   ]
  },
  {
   "cell_type": "code",
   "execution_count": 11,
   "metadata": {},
   "outputs": [],
   "source": [
    "# create the summary of the last 4 hours.\n",
    "set_sort_datetime_index(df_telemetry)\n",
    "grouped = df_telemetry.groupby('machineID')\n",
    "\n",
    "\n",
    "resampled_min = grouped.resample(feature_window_1, closed='left', label='right').min().drop(columns='machineID')\n",
    "resampled_max = grouped.resample(feature_window_1, closed='left', label='right').max().drop(columns='machineID')\n",
    "resampled_mean = grouped.resample(feature_window_1, closed='left', label='right').mean().drop(columns='machineID')\n",
    "resampled_median = grouped.resample(feature_window_1, closed='left', label='right').median().drop(columns='machineID')"
   ]
  },
  {
   "cell_type": "code",
   "execution_count": 12,
   "metadata": {},
   "outputs": [],
   "source": [
    "rename_df_col(resampled_min,'_min_4h')\n",
    "rename_df_col(resampled_max,'_max_4h')\n",
    "rename_df_col(resampled_mean,'_mean_4h')\n",
    "rename_df_col(resampled_median,'_median_4h')"
   ]
  },
  {
   "cell_type": "code",
   "execution_count": 13,
   "metadata": {},
   "outputs": [],
   "source": [
    "df_features= resampled_min.join(resampled_max)\n",
    "df_features= df_features.join(resampled_mean)\n",
    "df_features= df_features.join(resampled_median)"
   ]
  },
  {
   "cell_type": "code",
   "execution_count": 14,
   "metadata": {},
   "outputs": [],
   "source": [
    "df_features.reset_index(inplace=True)"
   ]
  },
  {
   "cell_type": "code",
   "execution_count": 15,
   "metadata": {
    "tags": []
   },
   "outputs": [],
   "source": [
    "df_features=df_features.dropna()"
   ]
  },
  {
   "cell_type": "code",
   "execution_count": 16,
   "metadata": {},
   "outputs": [
    {
     "name": "stdout",
     "output_type": "stream",
     "text": [
      "<class 'pandas.core.frame.DataFrame'>\n",
      "RangeIndex: 219100 entries, 0 to 219099\n",
      "Data columns (total 18 columns):\n",
      " #   Column               Non-Null Count   Dtype         \n",
      "---  ------               --------------   -----         \n",
      " 0   machineID            219100 non-null  int64         \n",
      " 1   datetime             219100 non-null  datetime64[ns]\n",
      " 2   volt_min_4h          219100 non-null  float64       \n",
      " 3   rotate_min_4h        219100 non-null  float64       \n",
      " 4   pressure_min_4h      219100 non-null  float64       \n",
      " 5   vibration_min_4h     219100 non-null  float64       \n",
      " 6   volt_max_4h          219100 non-null  float64       \n",
      " 7   rotate_max_4h        219100 non-null  float64       \n",
      " 8   pressure_max_4h      219100 non-null  float64       \n",
      " 9   vibration_max_4h     219100 non-null  float64       \n",
      " 10  volt_mean_4h         219100 non-null  float64       \n",
      " 11  rotate_mean_4h       219100 non-null  float64       \n",
      " 12  pressure_mean_4h     219100 non-null  float64       \n",
      " 13  vibration_mean_4h    219100 non-null  float64       \n",
      " 14  volt_median_4h       219100 non-null  float64       \n",
      " 15  rotate_median_4h     219100 non-null  float64       \n",
      " 16  pressure_median_4h   219100 non-null  float64       \n",
      " 17  vibration_median_4h  219100 non-null  float64       \n",
      "dtypes: datetime64[ns](1), float64(16), int64(1)\n",
      "memory usage: 30.1 MB\n"
     ]
    }
   ],
   "source": [
    "df_features.info()"
   ]
  },
  {
   "cell_type": "code",
   "execution_count": 17,
   "metadata": {
    "tags": []
   },
   "outputs": [],
   "source": [
    "#creat summary of the last 24 hours.\n",
    "rolling_min_24h = grouped.rolling(window=feature_window_2).min()\n",
    "rolling_max_24h = grouped.rolling(window=feature_window_2).max()\n",
    "rolling_mean_24h = grouped.rolling(window=feature_window_2).mean()\n",
    "rolling_median_24h = grouped.rolling(window=feature_window_2).median()"
   ]
  },
  {
   "cell_type": "code",
   "execution_count": 18,
   "metadata": {},
   "outputs": [],
   "source": [
    "rename_df_col(rolling_min_24h,'_min_24h')\n",
    "rename_df_col(rolling_max_24h,'_max_24h')\n",
    "rename_df_col(rolling_mean_24h,'_mean_24h')\n",
    "rename_df_col(rolling_median_24h,'_median_24h')"
   ]
  },
  {
   "cell_type": "code",
   "execution_count": 19,
   "metadata": {},
   "outputs": [],
   "source": [
    "df_features_24= rolling_max_24h.join(rolling_min_24h)\n",
    "df_features_24= df_features_24.join(rolling_median_24h)\n",
    "df_features_24= df_features_24.join(rolling_mean_24h)"
   ]
  },
  {
   "cell_type": "code",
   "execution_count": 20,
   "metadata": {},
   "outputs": [],
   "source": [
    "df_features_24.reset_index(inplace=True)"
   ]
  },
  {
   "cell_type": "code",
   "execution_count": 21,
   "metadata": {},
   "outputs": [],
   "source": [
    "df_features=pd.merge(df_features,df_features_24,how='left')"
   ]
  },
  {
   "cell_type": "code",
   "execution_count": 22,
   "metadata": {},
   "outputs": [],
   "source": [
    "df_features=df_features.dropna()"
   ]
  },
  {
   "cell_type": "code",
   "execution_count": 23,
   "metadata": {},
   "outputs": [
    {
     "name": "stdout",
     "output_type": "stream",
     "text": [
      "<class 'pandas.core.frame.DataFrame'>\n",
      "Int64Index: 218400 entries, 6 to 219098\n",
      "Data columns (total 34 columns):\n",
      " #   Column                Non-Null Count   Dtype         \n",
      "---  ------                --------------   -----         \n",
      " 0   machineID             218400 non-null  int64         \n",
      " 1   datetime              218400 non-null  datetime64[ns]\n",
      " 2   volt_min_4h           218400 non-null  float64       \n",
      " 3   rotate_min_4h         218400 non-null  float64       \n",
      " 4   pressure_min_4h       218400 non-null  float64       \n",
      " 5   vibration_min_4h      218400 non-null  float64       \n",
      " 6   volt_max_4h           218400 non-null  float64       \n",
      " 7   rotate_max_4h         218400 non-null  float64       \n",
      " 8   pressure_max_4h       218400 non-null  float64       \n",
      " 9   vibration_max_4h      218400 non-null  float64       \n",
      " 10  volt_mean_4h          218400 non-null  float64       \n",
      " 11  rotate_mean_4h        218400 non-null  float64       \n",
      " 12  pressure_mean_4h      218400 non-null  float64       \n",
      " 13  vibration_mean_4h     218400 non-null  float64       \n",
      " 14  volt_median_4h        218400 non-null  float64       \n",
      " 15  rotate_median_4h      218400 non-null  float64       \n",
      " 16  pressure_median_4h    218400 non-null  float64       \n",
      " 17  vibration_median_4h   218400 non-null  float64       \n",
      " 18  volt_max_24h          218400 non-null  float64       \n",
      " 19  rotate_max_24h        218400 non-null  float64       \n",
      " 20  pressure_max_24h      218400 non-null  float64       \n",
      " 21  vibration_max_24h     218400 non-null  float64       \n",
      " 22  volt_min_24h          218400 non-null  float64       \n",
      " 23  rotate_min_24h        218400 non-null  float64       \n",
      " 24  pressure_min_24h      218400 non-null  float64       \n",
      " 25  vibration_min_24h     218400 non-null  float64       \n",
      " 26  volt_median_24h       218400 non-null  float64       \n",
      " 27  rotate_median_24h     218400 non-null  float64       \n",
      " 28  pressure_median_24h   218400 non-null  float64       \n",
      " 29  vibration_median_24h  218400 non-null  float64       \n",
      " 30  volt_mean_24h         218400 non-null  float64       \n",
      " 31  rotate_mean_24h       218400 non-null  float64       \n",
      " 32  pressure_mean_24h     218400 non-null  float64       \n",
      " 33  vibration_mean_24h    218400 non-null  float64       \n",
      "dtypes: datetime64[ns](1), float64(32), int64(1)\n",
      "memory usage: 58.3 MB\n"
     ]
    }
   ],
   "source": [
    "df_features.info()"
   ]
  },
  {
   "cell_type": "code",
   "execution_count": 24,
   "metadata": {},
   "outputs": [],
   "source": [
    "#add age and model of the machines .\n",
    "df_features=pd.merge(df_features,df_machines,how='left')"
   ]
  },
  {
   "cell_type": "code",
   "execution_count": 25,
   "metadata": {},
   "outputs": [
    {
     "name": "stdout",
     "output_type": "stream",
     "text": [
      "<class 'pandas.core.frame.DataFrame'>\n",
      "Int64Index: 218400 entries, 0 to 218399\n",
      "Data columns (total 36 columns):\n",
      " #   Column                Non-Null Count   Dtype         \n",
      "---  ------                --------------   -----         \n",
      " 0   machineID             218400 non-null  int64         \n",
      " 1   datetime              218400 non-null  datetime64[ns]\n",
      " 2   volt_min_4h           218400 non-null  float64       \n",
      " 3   rotate_min_4h         218400 non-null  float64       \n",
      " 4   pressure_min_4h       218400 non-null  float64       \n",
      " 5   vibration_min_4h      218400 non-null  float64       \n",
      " 6   volt_max_4h           218400 non-null  float64       \n",
      " 7   rotate_max_4h         218400 non-null  float64       \n",
      " 8   pressure_max_4h       218400 non-null  float64       \n",
      " 9   vibration_max_4h      218400 non-null  float64       \n",
      " 10  volt_mean_4h          218400 non-null  float64       \n",
      " 11  rotate_mean_4h        218400 non-null  float64       \n",
      " 12  pressure_mean_4h      218400 non-null  float64       \n",
      " 13  vibration_mean_4h     218400 non-null  float64       \n",
      " 14  volt_median_4h        218400 non-null  float64       \n",
      " 15  rotate_median_4h      218400 non-null  float64       \n",
      " 16  pressure_median_4h    218400 non-null  float64       \n",
      " 17  vibration_median_4h   218400 non-null  float64       \n",
      " 18  volt_max_24h          218400 non-null  float64       \n",
      " 19  rotate_max_24h        218400 non-null  float64       \n",
      " 20  pressure_max_24h      218400 non-null  float64       \n",
      " 21  vibration_max_24h     218400 non-null  float64       \n",
      " 22  volt_min_24h          218400 non-null  float64       \n",
      " 23  rotate_min_24h        218400 non-null  float64       \n",
      " 24  pressure_min_24h      218400 non-null  float64       \n",
      " 25  vibration_min_24h     218400 non-null  float64       \n",
      " 26  volt_median_24h       218400 non-null  float64       \n",
      " 27  rotate_median_24h     218400 non-null  float64       \n",
      " 28  pressure_median_24h   218400 non-null  float64       \n",
      " 29  vibration_median_24h  218400 non-null  float64       \n",
      " 30  volt_mean_24h         218400 non-null  float64       \n",
      " 31  rotate_mean_24h       218400 non-null  float64       \n",
      " 32  pressure_mean_24h     218400 non-null  float64       \n",
      " 33  vibration_mean_24h    218400 non-null  float64       \n",
      " 34  model                 218400 non-null  object        \n",
      " 35  age                   218400 non-null  int64         \n",
      "dtypes: datetime64[ns](1), float64(32), int64(2), object(1)\n",
      "memory usage: 61.7+ MB\n"
     ]
    }
   ],
   "source": [
    "df_features.info()\n"
   ]
  },
  {
   "cell_type": "code",
   "execution_count": 26,
   "metadata": {},
   "outputs": [
    {
     "name": "stdout",
     "output_type": "stream",
     "text": [
      "<class 'pandas.core.frame.DataFrame'>\n",
      "Int64Index: 218400 entries, 0 to 218399\n",
      "Data columns (total 39 columns):\n",
      " #   Column                Non-Null Count   Dtype         \n",
      "---  ------                --------------   -----         \n",
      " 0   machineID             218400 non-null  int64         \n",
      " 1   datetime              218400 non-null  datetime64[ns]\n",
      " 2   volt_min_4h           218400 non-null  float64       \n",
      " 3   rotate_min_4h         218400 non-null  float64       \n",
      " 4   pressure_min_4h       218400 non-null  float64       \n",
      " 5   vibration_min_4h      218400 non-null  float64       \n",
      " 6   volt_max_4h           218400 non-null  float64       \n",
      " 7   rotate_max_4h         218400 non-null  float64       \n",
      " 8   pressure_max_4h       218400 non-null  float64       \n",
      " 9   vibration_max_4h      218400 non-null  float64       \n",
      " 10  volt_mean_4h          218400 non-null  float64       \n",
      " 11  rotate_mean_4h        218400 non-null  float64       \n",
      " 12  pressure_mean_4h      218400 non-null  float64       \n",
      " 13  vibration_mean_4h     218400 non-null  float64       \n",
      " 14  volt_median_4h        218400 non-null  float64       \n",
      " 15  rotate_median_4h      218400 non-null  float64       \n",
      " 16  pressure_median_4h    218400 non-null  float64       \n",
      " 17  vibration_median_4h   218400 non-null  float64       \n",
      " 18  volt_max_24h          218400 non-null  float64       \n",
      " 19  rotate_max_24h        218400 non-null  float64       \n",
      " 20  pressure_max_24h      218400 non-null  float64       \n",
      " 21  vibration_max_24h     218400 non-null  float64       \n",
      " 22  volt_min_24h          218400 non-null  float64       \n",
      " 23  rotate_min_24h        218400 non-null  float64       \n",
      " 24  pressure_min_24h      218400 non-null  float64       \n",
      " 25  vibration_min_24h     218400 non-null  float64       \n",
      " 26  volt_median_24h       218400 non-null  float64       \n",
      " 27  rotate_median_24h     218400 non-null  float64       \n",
      " 28  pressure_median_24h   218400 non-null  float64       \n",
      " 29  vibration_median_24h  218400 non-null  float64       \n",
      " 30  volt_mean_24h         218400 non-null  float64       \n",
      " 31  rotate_mean_24h       218400 non-null  float64       \n",
      " 32  pressure_mean_24h     218400 non-null  float64       \n",
      " 33  vibration_mean_24h    218400 non-null  float64       \n",
      " 34  age                   218400 non-null  int64         \n",
      " 35  model_model1          218400 non-null  uint8         \n",
      " 36  model_model2          218400 non-null  uint8         \n",
      " 37  model_model3          218400 non-null  uint8         \n",
      " 38  model_model4          218400 non-null  uint8         \n",
      "dtypes: datetime64[ns](1), float64(32), int64(2), uint8(4)\n",
      "memory usage: 60.8 MB\n"
     ]
    }
   ],
   "source": [
    "df_features = pd.get_dummies(df_features)\n",
    "df_features.info()"
   ]
  },
  {
   "cell_type": "code",
   "execution_count": 27,
   "metadata": {},
   "outputs": [
    {
     "data": {
      "text/html": [
       "<div>\n",
       "<style scoped>\n",
       "    .dataframe tbody tr th:only-of-type {\n",
       "        vertical-align: middle;\n",
       "    }\n",
       "\n",
       "    .dataframe tbody tr th {\n",
       "        vertical-align: top;\n",
       "    }\n",
       "\n",
       "    .dataframe thead th {\n",
       "        text-align: right;\n",
       "    }\n",
       "</style>\n",
       "<table border=\"1\" class=\"dataframe\">\n",
       "  <thead>\n",
       "    <tr style=\"text-align: right;\">\n",
       "      <th></th>\n",
       "      <th>machineID</th>\n",
       "      <th>datetime</th>\n",
       "      <th>error1</th>\n",
       "      <th>error2</th>\n",
       "      <th>error3</th>\n",
       "      <th>error4</th>\n",
       "      <th>error5</th>\n",
       "    </tr>\n",
       "  </thead>\n",
       "  <tbody>\n",
       "    <tr>\n",
       "      <th>0</th>\n",
       "      <td>1</td>\n",
       "      <td>2015-01-03 07:00:00</td>\n",
       "      <td>1</td>\n",
       "      <td>0</td>\n",
       "      <td>0</td>\n",
       "      <td>0</td>\n",
       "      <td>0</td>\n",
       "    </tr>\n",
       "    <tr>\n",
       "      <th>1</th>\n",
       "      <td>1</td>\n",
       "      <td>2015-01-03 20:00:00</td>\n",
       "      <td>0</td>\n",
       "      <td>0</td>\n",
       "      <td>1</td>\n",
       "      <td>0</td>\n",
       "      <td>0</td>\n",
       "    </tr>\n",
       "    <tr>\n",
       "      <th>2</th>\n",
       "      <td>1</td>\n",
       "      <td>2015-01-04 06:00:00</td>\n",
       "      <td>0</td>\n",
       "      <td>0</td>\n",
       "      <td>0</td>\n",
       "      <td>0</td>\n",
       "      <td>1</td>\n",
       "    </tr>\n",
       "    <tr>\n",
       "      <th>3</th>\n",
       "      <td>1</td>\n",
       "      <td>2015-01-10 15:00:00</td>\n",
       "      <td>0</td>\n",
       "      <td>0</td>\n",
       "      <td>0</td>\n",
       "      <td>1</td>\n",
       "      <td>0</td>\n",
       "    </tr>\n",
       "    <tr>\n",
       "      <th>4</th>\n",
       "      <td>1</td>\n",
       "      <td>2015-01-22 10:00:00</td>\n",
       "      <td>0</td>\n",
       "      <td>0</td>\n",
       "      <td>0</td>\n",
       "      <td>1</td>\n",
       "      <td>0</td>\n",
       "    </tr>\n",
       "    <tr>\n",
       "      <th>...</th>\n",
       "      <td>...</td>\n",
       "      <td>...</td>\n",
       "      <td>...</td>\n",
       "      <td>...</td>\n",
       "      <td>...</td>\n",
       "      <td>...</td>\n",
       "      <td>...</td>\n",
       "    </tr>\n",
       "    <tr>\n",
       "      <th>3611</th>\n",
       "      <td>100</td>\n",
       "      <td>2015-11-12 01:00:00</td>\n",
       "      <td>1</td>\n",
       "      <td>0</td>\n",
       "      <td>0</td>\n",
       "      <td>0</td>\n",
       "      <td>0</td>\n",
       "    </tr>\n",
       "    <tr>\n",
       "      <th>3612</th>\n",
       "      <td>100</td>\n",
       "      <td>2015-11-21 08:00:00</td>\n",
       "      <td>0</td>\n",
       "      <td>1</td>\n",
       "      <td>0</td>\n",
       "      <td>0</td>\n",
       "      <td>0</td>\n",
       "    </tr>\n",
       "    <tr>\n",
       "      <th>3613</th>\n",
       "      <td>100</td>\n",
       "      <td>2015-12-04 02:00:00</td>\n",
       "      <td>1</td>\n",
       "      <td>0</td>\n",
       "      <td>0</td>\n",
       "      <td>0</td>\n",
       "      <td>0</td>\n",
       "    </tr>\n",
       "    <tr>\n",
       "      <th>3614</th>\n",
       "      <td>100</td>\n",
       "      <td>2015-12-08 06:00:00</td>\n",
       "      <td>0</td>\n",
       "      <td>1</td>\n",
       "      <td>1</td>\n",
       "      <td>0</td>\n",
       "      <td>0</td>\n",
       "    </tr>\n",
       "    <tr>\n",
       "      <th>3615</th>\n",
       "      <td>100</td>\n",
       "      <td>2015-12-22 03:00:00</td>\n",
       "      <td>0</td>\n",
       "      <td>0</td>\n",
       "      <td>1</td>\n",
       "      <td>0</td>\n",
       "      <td>0</td>\n",
       "    </tr>\n",
       "  </tbody>\n",
       "</table>\n",
       "<p>3616 rows × 7 columns</p>\n",
       "</div>"
      ],
      "text/plain": [
       "      machineID            datetime  error1  error2  error3  error4  error5\n",
       "0             1 2015-01-03 07:00:00       1       0       0       0       0\n",
       "1             1 2015-01-03 20:00:00       0       0       1       0       0\n",
       "2             1 2015-01-04 06:00:00       0       0       0       0       1\n",
       "3             1 2015-01-10 15:00:00       0       0       0       1       0\n",
       "4             1 2015-01-22 10:00:00       0       0       0       1       0\n",
       "...         ...                 ...     ...     ...     ...     ...     ...\n",
       "3611        100 2015-11-12 01:00:00       1       0       0       0       0\n",
       "3612        100 2015-11-21 08:00:00       0       1       0       0       0\n",
       "3613        100 2015-12-04 02:00:00       1       0       0       0       0\n",
       "3614        100 2015-12-08 06:00:00       0       1       1       0       0\n",
       "3615        100 2015-12-22 03:00:00       0       0       1       0       0\n",
       "\n",
       "[3616 rows x 7 columns]"
      ]
     },
     "execution_count": 27,
     "metadata": {},
     "output_type": "execute_result"
    }
   ],
   "source": [
    "# add the errors.\n",
    "error_feature = pd.get_dummies(df_errors.set_index('datetime'))\n",
    "error_feature.columns = ['machineID', 'error1', 'error2', 'error3', 'error4', 'error5']\n",
    "error_feature = error_feature.groupby(['machineID', 'datetime']).sum().reset_index()\n",
    "error_feature"
   ]
  },
  {
   "cell_type": "code",
   "execution_count": 28,
   "metadata": {},
   "outputs": [
    {
     "name": "stdout",
     "output_type": "stream",
     "text": [
      "<class 'pandas.core.frame.DataFrame'>\n",
      "Int64Index: 218400 entries, 0 to 218399\n",
      "Data columns (total 44 columns):\n",
      " #   Column                Non-Null Count   Dtype         \n",
      "---  ------                --------------   -----         \n",
      " 0   machineID             218400 non-null  int64         \n",
      " 1   datetime              218400 non-null  datetime64[ns]\n",
      " 2   volt_min_4h           218400 non-null  float64       \n",
      " 3   rotate_min_4h         218400 non-null  float64       \n",
      " 4   pressure_min_4h       218400 non-null  float64       \n",
      " 5   vibration_min_4h      218400 non-null  float64       \n",
      " 6   volt_max_4h           218400 non-null  float64       \n",
      " 7   rotate_max_4h         218400 non-null  float64       \n",
      " 8   pressure_max_4h       218400 non-null  float64       \n",
      " 9   vibration_max_4h      218400 non-null  float64       \n",
      " 10  volt_mean_4h          218400 non-null  float64       \n",
      " 11  rotate_mean_4h        218400 non-null  float64       \n",
      " 12  pressure_mean_4h      218400 non-null  float64       \n",
      " 13  vibration_mean_4h     218400 non-null  float64       \n",
      " 14  volt_median_4h        218400 non-null  float64       \n",
      " 15  rotate_median_4h      218400 non-null  float64       \n",
      " 16  pressure_median_4h    218400 non-null  float64       \n",
      " 17  vibration_median_4h   218400 non-null  float64       \n",
      " 18  volt_max_24h          218400 non-null  float64       \n",
      " 19  rotate_max_24h        218400 non-null  float64       \n",
      " 20  pressure_max_24h      218400 non-null  float64       \n",
      " 21  vibration_max_24h     218400 non-null  float64       \n",
      " 22  volt_min_24h          218400 non-null  float64       \n",
      " 23  rotate_min_24h        218400 non-null  float64       \n",
      " 24  pressure_min_24h      218400 non-null  float64       \n",
      " 25  vibration_min_24h     218400 non-null  float64       \n",
      " 26  volt_median_24h       218400 non-null  float64       \n",
      " 27  rotate_median_24h     218400 non-null  float64       \n",
      " 28  pressure_median_24h   218400 non-null  float64       \n",
      " 29  vibration_median_24h  218400 non-null  float64       \n",
      " 30  volt_mean_24h         218400 non-null  float64       \n",
      " 31  rotate_mean_24h       218400 non-null  float64       \n",
      " 32  pressure_mean_24h     218400 non-null  float64       \n",
      " 33  vibration_mean_24h    218400 non-null  float64       \n",
      " 34  age                   218400 non-null  int64         \n",
      " 35  model_model1          218400 non-null  uint8         \n",
      " 36  model_model2          218400 non-null  uint8         \n",
      " 37  model_model3          218400 non-null  uint8         \n",
      " 38  model_model4          218400 non-null  uint8         \n",
      " 39  error1total_24h       218400 non-null  float64       \n",
      " 40  error2total_24h       218400 non-null  float64       \n",
      " 41  error3total_24h       218400 non-null  float64       \n",
      " 42  error4total_24h       218400 non-null  float64       \n",
      " 43  error5total_24h       218400 non-null  float64       \n",
      "dtypes: datetime64[ns](1), float64(37), int64(2), uint8(4)\n",
      "memory usage: 69.1 MB\n"
     ]
    }
   ],
   "source": [
    "#creat lag features for number of error in  last 24 hours.\n",
    "df_telemetry.reset_index(inplace=True)\n",
    "change_into_Datetime(error_feature,'datetime')\n",
    "df=pd.merge(df_telemetry[['datetime', 'machineID']],error_feature, on=['machineID', 'datetime'], how='left').fillna(0.0)\n",
    "df.set_index('datetime', inplace=True)\n",
    "error_grouped=df.groupby(['machineID'])\n",
    "rolling_error_24h = error_grouped.rolling(window=feature_window_2,closed='left').sum()\n",
    "rename_df_col(rolling_error_24h,'total_24h')\n",
    "rolling_error_24h.reset_index(inplace=True)\n",
    "change_into_Datetime(rolling_error_24h,'datetime')\n",
    "\n",
    "df_features=pd.merge(df_features,rolling_error_24h,how='left')\n",
    "df_features.dropna()\n",
    "df_features.info()"
   ]
  },
  {
   "cell_type": "code",
   "execution_count": 29,
   "metadata": {},
   "outputs": [
    {
     "data": {
      "text/html": [
       "<div>\n",
       "<style scoped>\n",
       "    .dataframe tbody tr th:only-of-type {\n",
       "        vertical-align: middle;\n",
       "    }\n",
       "\n",
       "    .dataframe tbody tr th {\n",
       "        vertical-align: top;\n",
       "    }\n",
       "\n",
       "    .dataframe thead th {\n",
       "        text-align: right;\n",
       "    }\n",
       "</style>\n",
       "<table border=\"1\" class=\"dataframe\">\n",
       "  <thead>\n",
       "    <tr style=\"text-align: right;\">\n",
       "      <th></th>\n",
       "      <th>machineID</th>\n",
       "      <th>datetime</th>\n",
       "      <th>comp1</th>\n",
       "      <th>comp2</th>\n",
       "      <th>comp3</th>\n",
       "      <th>comp4</th>\n",
       "    </tr>\n",
       "  </thead>\n",
       "  <tbody>\n",
       "    <tr>\n",
       "      <th>0</th>\n",
       "      <td>1</td>\n",
       "      <td>2014-06-01 06:00:00</td>\n",
       "      <td>0.0</td>\n",
       "      <td>1.0</td>\n",
       "      <td>0.0</td>\n",
       "      <td>0.0</td>\n",
       "    </tr>\n",
       "    <tr>\n",
       "      <th>1</th>\n",
       "      <td>1</td>\n",
       "      <td>2014-07-16 06:00:00</td>\n",
       "      <td>0.0</td>\n",
       "      <td>0.0</td>\n",
       "      <td>0.0</td>\n",
       "      <td>1.0</td>\n",
       "    </tr>\n",
       "    <tr>\n",
       "      <th>2</th>\n",
       "      <td>1</td>\n",
       "      <td>2014-07-31 06:00:00</td>\n",
       "      <td>0.0</td>\n",
       "      <td>0.0</td>\n",
       "      <td>1.0</td>\n",
       "      <td>0.0</td>\n",
       "    </tr>\n",
       "    <tr>\n",
       "      <th>3</th>\n",
       "      <td>1</td>\n",
       "      <td>2014-12-13 06:00:00</td>\n",
       "      <td>1.0</td>\n",
       "      <td>0.0</td>\n",
       "      <td>0.0</td>\n",
       "      <td>0.0</td>\n",
       "    </tr>\n",
       "    <tr>\n",
       "      <th>2545</th>\n",
       "      <td>1</td>\n",
       "      <td>2015-01-02 08:00:00</td>\n",
       "      <td>0.0</td>\n",
       "      <td>0.0</td>\n",
       "      <td>0.0</td>\n",
       "      <td>0.0</td>\n",
       "    </tr>\n",
       "    <tr>\n",
       "      <th>...</th>\n",
       "      <td>...</td>\n",
       "      <td>...</td>\n",
       "      <td>...</td>\n",
       "      <td>...</td>\n",
       "      <td>...</td>\n",
       "      <td>...</td>\n",
       "    </tr>\n",
       "    <tr>\n",
       "      <th>220940</th>\n",
       "      <td>100</td>\n",
       "      <td>2015-12-31 12:00:00</td>\n",
       "      <td>0.0</td>\n",
       "      <td>0.0</td>\n",
       "      <td>0.0</td>\n",
       "      <td>0.0</td>\n",
       "    </tr>\n",
       "    <tr>\n",
       "      <th>220941</th>\n",
       "      <td>100</td>\n",
       "      <td>2015-12-31 16:00:00</td>\n",
       "      <td>0.0</td>\n",
       "      <td>0.0</td>\n",
       "      <td>0.0</td>\n",
       "      <td>0.0</td>\n",
       "    </tr>\n",
       "    <tr>\n",
       "      <th>220942</th>\n",
       "      <td>100</td>\n",
       "      <td>2015-12-31 20:00:00</td>\n",
       "      <td>0.0</td>\n",
       "      <td>0.0</td>\n",
       "      <td>0.0</td>\n",
       "      <td>0.0</td>\n",
       "    </tr>\n",
       "    <tr>\n",
       "      <th>220943</th>\n",
       "      <td>100</td>\n",
       "      <td>2016-01-01 00:00:00</td>\n",
       "      <td>0.0</td>\n",
       "      <td>0.0</td>\n",
       "      <td>0.0</td>\n",
       "      <td>0.0</td>\n",
       "    </tr>\n",
       "    <tr>\n",
       "      <th>220944</th>\n",
       "      <td>100</td>\n",
       "      <td>2016-01-01 04:00:00</td>\n",
       "      <td>0.0</td>\n",
       "      <td>0.0</td>\n",
       "      <td>0.0</td>\n",
       "      <td>0.0</td>\n",
       "    </tr>\n",
       "  </tbody>\n",
       "</table>\n",
       "<p>220945 rows × 6 columns</p>\n",
       "</div>"
      ],
      "text/plain": [
       "        machineID            datetime  comp1  comp2  comp3  comp4\n",
       "0               1 2014-06-01 06:00:00    0.0    1.0    0.0    0.0\n",
       "1               1 2014-07-16 06:00:00    0.0    0.0    0.0    1.0\n",
       "2               1 2014-07-31 06:00:00    0.0    0.0    1.0    0.0\n",
       "3               1 2014-12-13 06:00:00    1.0    0.0    0.0    0.0\n",
       "2545            1 2015-01-02 08:00:00    0.0    0.0    0.0    0.0\n",
       "...           ...                 ...    ...    ...    ...    ...\n",
       "220940        100 2015-12-31 12:00:00    0.0    0.0    0.0    0.0\n",
       "220941        100 2015-12-31 16:00:00    0.0    0.0    0.0    0.0\n",
       "220942        100 2015-12-31 20:00:00    0.0    0.0    0.0    0.0\n",
       "220943        100 2016-01-01 00:00:00    0.0    0.0    0.0    0.0\n",
       "220944        100 2016-01-01 04:00:00    0.0    0.0    0.0    0.0\n",
       "\n",
       "[220945 rows x 6 columns]"
      ]
     },
     "execution_count": 29,
     "metadata": {},
     "output_type": "execute_result"
    }
   ],
   "source": [
    "# creat a data frame for componant replacment.\n",
    "df_failures.rename(columns={'failure': 'comp'}, inplace=True)\n",
    "df_maint_fail = pd.merge(df_maint, df_failures, how='outer')\n",
    "comp_replaced=df_maint_fail[['datetime','machineID','comp']].copy()\n",
    "comp_replaced = pd.get_dummies(df_maint_fail.set_index('datetime'))\n",
    "comp_replaced.columns = ['machineID', 'comp1', 'comp2', 'comp3', 'comp4']\n",
    "comp_replaced = comp_replaced.groupby(['machineID', 'datetime']).sum().reset_index()\n",
    "change_into_Datetime(comp_replaced,'datetime')\n",
    "comp_replaced=pd.merge(comp_replaced,df_features[['datetime','machineID']],how='outer').fillna(0)\n",
    "comp_replaced.sort_values(['machineID', 'datetime'],axis = 0, ascending = True, inplace = True)\n",
    "comp_replaced"
   ]
  },
  {
   "cell_type": "code",
   "execution_count": 30,
   "metadata": {},
   "outputs": [
    {
     "data": {
      "text/html": [
       "<div>\n",
       "<style scoped>\n",
       "    .dataframe tbody tr th:only-of-type {\n",
       "        vertical-align: middle;\n",
       "    }\n",
       "\n",
       "    .dataframe tbody tr th {\n",
       "        vertical-align: top;\n",
       "    }\n",
       "\n",
       "    .dataframe thead th {\n",
       "        text-align: right;\n",
       "    }\n",
       "</style>\n",
       "<table border=\"1\" class=\"dataframe\">\n",
       "  <thead>\n",
       "    <tr style=\"text-align: right;\">\n",
       "      <th></th>\n",
       "      <th>machineID</th>\n",
       "      <th>datetime</th>\n",
       "      <th>comp1age</th>\n",
       "      <th>comp2age</th>\n",
       "      <th>comp3age</th>\n",
       "      <th>comp4age</th>\n",
       "    </tr>\n",
       "  </thead>\n",
       "  <tbody>\n",
       "    <tr>\n",
       "      <th>0</th>\n",
       "      <td>1</td>\n",
       "      <td>2014-12-13 06:00:00</td>\n",
       "      <td>0.0</td>\n",
       "      <td>4680.0</td>\n",
       "      <td>3240.0</td>\n",
       "      <td>3600.0</td>\n",
       "    </tr>\n",
       "    <tr>\n",
       "      <th>1</th>\n",
       "      <td>1</td>\n",
       "      <td>2015-01-02 08:00:00</td>\n",
       "      <td>482.0</td>\n",
       "      <td>5162.0</td>\n",
       "      <td>3722.0</td>\n",
       "      <td>4082.0</td>\n",
       "    </tr>\n",
       "    <tr>\n",
       "      <th>2</th>\n",
       "      <td>1</td>\n",
       "      <td>2015-01-02 12:00:00</td>\n",
       "      <td>486.0</td>\n",
       "      <td>5166.0</td>\n",
       "      <td>3726.0</td>\n",
       "      <td>4086.0</td>\n",
       "    </tr>\n",
       "    <tr>\n",
       "      <th>3</th>\n",
       "      <td>1</td>\n",
       "      <td>2015-01-02 16:00:00</td>\n",
       "      <td>490.0</td>\n",
       "      <td>5170.0</td>\n",
       "      <td>3730.0</td>\n",
       "      <td>4090.0</td>\n",
       "    </tr>\n",
       "    <tr>\n",
       "      <th>4</th>\n",
       "      <td>1</td>\n",
       "      <td>2015-01-02 20:00:00</td>\n",
       "      <td>494.0</td>\n",
       "      <td>5174.0</td>\n",
       "      <td>3734.0</td>\n",
       "      <td>4094.0</td>\n",
       "    </tr>\n",
       "    <tr>\n",
       "      <th>...</th>\n",
       "      <td>...</td>\n",
       "      <td>...</td>\n",
       "      <td>...</td>\n",
       "      <td>...</td>\n",
       "      <td>...</td>\n",
       "      <td>...</td>\n",
       "    </tr>\n",
       "    <tr>\n",
       "      <th>220675</th>\n",
       "      <td>100</td>\n",
       "      <td>2015-12-31 12:00:00</td>\n",
       "      <td>1974.0</td>\n",
       "      <td>174.0</td>\n",
       "      <td>1974.0</td>\n",
       "      <td>1254.0</td>\n",
       "    </tr>\n",
       "    <tr>\n",
       "      <th>220676</th>\n",
       "      <td>100</td>\n",
       "      <td>2015-12-31 16:00:00</td>\n",
       "      <td>1978.0</td>\n",
       "      <td>178.0</td>\n",
       "      <td>1978.0</td>\n",
       "      <td>1258.0</td>\n",
       "    </tr>\n",
       "    <tr>\n",
       "      <th>220677</th>\n",
       "      <td>100</td>\n",
       "      <td>2015-12-31 20:00:00</td>\n",
       "      <td>1982.0</td>\n",
       "      <td>182.0</td>\n",
       "      <td>1982.0</td>\n",
       "      <td>1262.0</td>\n",
       "    </tr>\n",
       "    <tr>\n",
       "      <th>220678</th>\n",
       "      <td>100</td>\n",
       "      <td>2016-01-01 00:00:00</td>\n",
       "      <td>1986.0</td>\n",
       "      <td>186.0</td>\n",
       "      <td>1986.0</td>\n",
       "      <td>1266.0</td>\n",
       "    </tr>\n",
       "    <tr>\n",
       "      <th>220679</th>\n",
       "      <td>100</td>\n",
       "      <td>2016-01-01 04:00:00</td>\n",
       "      <td>1990.0</td>\n",
       "      <td>190.0</td>\n",
       "      <td>1990.0</td>\n",
       "      <td>1270.0</td>\n",
       "    </tr>\n",
       "  </tbody>\n",
       "</table>\n",
       "<p>220680 rows × 6 columns</p>\n",
       "</div>"
      ],
      "text/plain": [
       "        machineID            datetime  comp1age  comp2age  comp3age  comp4age\n",
       "0               1 2014-12-13 06:00:00       0.0    4680.0    3240.0    3600.0\n",
       "1               1 2015-01-02 08:00:00     482.0    5162.0    3722.0    4082.0\n",
       "2               1 2015-01-02 12:00:00     486.0    5166.0    3726.0    4086.0\n",
       "3               1 2015-01-02 16:00:00     490.0    5170.0    3730.0    4090.0\n",
       "4               1 2015-01-02 20:00:00     494.0    5174.0    3734.0    4094.0\n",
       "...           ...                 ...       ...       ...       ...       ...\n",
       "220675        100 2015-12-31 12:00:00    1974.0     174.0    1974.0    1254.0\n",
       "220676        100 2015-12-31 16:00:00    1978.0     178.0    1978.0    1258.0\n",
       "220677        100 2015-12-31 20:00:00    1982.0     182.0    1982.0    1262.0\n",
       "220678        100 2016-01-01 00:00:00    1986.0     186.0    1986.0    1266.0\n",
       "220679        100 2016-01-01 04:00:00    1990.0     190.0    1990.0    1270.0\n",
       "\n",
       "[220680 rows x 6 columns]"
      ]
     },
     "execution_count": 30,
     "metadata": {},
     "output_type": "execute_result"
    }
   ],
   "source": [
    "#calculate the age of the componants in hours.\n",
    "componant_age=comp_replaced.copy()\n",
    "frames = []\n",
    "componant= ['comp1','comp2','comp3','comp4']\n",
    "for machineId in range(1,101):\n",
    "    df_temp=componant_age.loc[componant_age['machineID']==machineId]\n",
    "    for comp in componant:\n",
    "        df_temp.loc[df_temp[comp] > 0, comp] = np.nan\n",
    "        df_temp[comp] = df_temp[comp].fillna(componant_age['datetime'])\n",
    "        df_temp.loc[df_temp[comp] == 0, comp] = np.nan\n",
    "        df_temp[comp]=df_temp[comp].fillna(method='ffill')\n",
    "    frames.append(df_temp)\n",
    "componant_age=pd.concat(frames)\n",
    "componant_age=componant_age.dropna()\n",
    "for comp in componant:\n",
    "    componant_age[comp+'age']=(componant_age['datetime'] - componant_age[comp]) / np.timedelta64(1, 'h')\n",
    "componant_age=componant_age.drop(columns=componant)\n",
    "componant_age.reset_index(drop=True,inplace=True)\n",
    "componant_age"
   ]
  },
  {
   "cell_type": "code",
   "execution_count": 31,
   "metadata": {},
   "outputs": [
    {
     "name": "stdout",
     "output_type": "stream",
     "text": [
      "<class 'pandas.core.frame.DataFrame'>\n",
      "Int64Index: 218400 entries, 0 to 218399\n",
      "Data columns (total 48 columns):\n",
      " #   Column                Non-Null Count   Dtype         \n",
      "---  ------                --------------   -----         \n",
      " 0   machineID             218400 non-null  int64         \n",
      " 1   datetime              218400 non-null  datetime64[ns]\n",
      " 2   volt_min_4h           218400 non-null  float64       \n",
      " 3   rotate_min_4h         218400 non-null  float64       \n",
      " 4   pressure_min_4h       218400 non-null  float64       \n",
      " 5   vibration_min_4h      218400 non-null  float64       \n",
      " 6   volt_max_4h           218400 non-null  float64       \n",
      " 7   rotate_max_4h         218400 non-null  float64       \n",
      " 8   pressure_max_4h       218400 non-null  float64       \n",
      " 9   vibration_max_4h      218400 non-null  float64       \n",
      " 10  volt_mean_4h          218400 non-null  float64       \n",
      " 11  rotate_mean_4h        218400 non-null  float64       \n",
      " 12  pressure_mean_4h      218400 non-null  float64       \n",
      " 13  vibration_mean_4h     218400 non-null  float64       \n",
      " 14  volt_median_4h        218400 non-null  float64       \n",
      " 15  rotate_median_4h      218400 non-null  float64       \n",
      " 16  pressure_median_4h    218400 non-null  float64       \n",
      " 17  vibration_median_4h   218400 non-null  float64       \n",
      " 18  volt_max_24h          218400 non-null  float64       \n",
      " 19  rotate_max_24h        218400 non-null  float64       \n",
      " 20  pressure_max_24h      218400 non-null  float64       \n",
      " 21  vibration_max_24h     218400 non-null  float64       \n",
      " 22  volt_min_24h          218400 non-null  float64       \n",
      " 23  rotate_min_24h        218400 non-null  float64       \n",
      " 24  pressure_min_24h      218400 non-null  float64       \n",
      " 25  vibration_min_24h     218400 non-null  float64       \n",
      " 26  volt_median_24h       218400 non-null  float64       \n",
      " 27  rotate_median_24h     218400 non-null  float64       \n",
      " 28  pressure_median_24h   218400 non-null  float64       \n",
      " 29  vibration_median_24h  218400 non-null  float64       \n",
      " 30  volt_mean_24h         218400 non-null  float64       \n",
      " 31  rotate_mean_24h       218400 non-null  float64       \n",
      " 32  pressure_mean_24h     218400 non-null  float64       \n",
      " 33  vibration_mean_24h    218400 non-null  float64       \n",
      " 34  age                   218400 non-null  int64         \n",
      " 35  model_model1          218400 non-null  uint8         \n",
      " 36  model_model2          218400 non-null  uint8         \n",
      " 37  model_model3          218400 non-null  uint8         \n",
      " 38  model_model4          218400 non-null  uint8         \n",
      " 39  error1total_24h       218400 non-null  float64       \n",
      " 40  error2total_24h       218400 non-null  float64       \n",
      " 41  error3total_24h       218400 non-null  float64       \n",
      " 42  error4total_24h       218400 non-null  float64       \n",
      " 43  error5total_24h       218400 non-null  float64       \n",
      " 44  comp1age              218400 non-null  float64       \n",
      " 45  comp2age              218400 non-null  float64       \n",
      " 46  comp3age              218400 non-null  float64       \n",
      " 47  comp4age              218400 non-null  float64       \n",
      "dtypes: datetime64[ns](1), float64(41), int64(2), uint8(4)\n",
      "memory usage: 75.8 MB\n"
     ]
    }
   ],
   "source": [
    "df_features=pd.merge(df_features,componant_age,how='left')\n",
    "df_features.dropna(inplace= True)\n",
    "df_features.info()"
   ]
  },
  {
   "cell_type": "markdown",
   "metadata": {},
   "source": [
    "# Data labeling"
   ]
  },
  {
   "cell_type": "markdown",
   "metadata": {},
   "source": [
    "##  Case 1"
   ]
  },
  {
   "cell_type": "markdown",
   "metadata": {},
   "source": [
    "In this case the data will labeled failed only when a component is changed because the machine is failed. Therefore only the data from the file  PdM_failures.csv will be uesed for labeling. And the componant will be considered failed for 24 hours before changing."
   ]
  },
  {
   "cell_type": "code",
   "execution_count": 32,
   "metadata": {
    "tags": []
   },
   "outputs": [
    {
     "data": {
      "text/html": [
       "<div>\n",
       "<style scoped>\n",
       "    .dataframe tbody tr th:only-of-type {\n",
       "        vertical-align: middle;\n",
       "    }\n",
       "\n",
       "    .dataframe tbody tr th {\n",
       "        vertical-align: top;\n",
       "    }\n",
       "\n",
       "    .dataframe thead th {\n",
       "        text-align: right;\n",
       "    }\n",
       "</style>\n",
       "<table border=\"1\" class=\"dataframe\">\n",
       "  <thead>\n",
       "    <tr style=\"text-align: right;\">\n",
       "      <th></th>\n",
       "      <th>datetime</th>\n",
       "      <th>machineID</th>\n",
       "      <th>comp</th>\n",
       "    </tr>\n",
       "  </thead>\n",
       "  <tbody>\n",
       "    <tr>\n",
       "      <th>0</th>\n",
       "      <td>2015-01-01 06:00:00</td>\n",
       "      <td>1</td>\n",
       "      <td>NaN</td>\n",
       "    </tr>\n",
       "    <tr>\n",
       "      <th>1</th>\n",
       "      <td>2015-01-01 07:00:00</td>\n",
       "      <td>1</td>\n",
       "      <td>NaN</td>\n",
       "    </tr>\n",
       "    <tr>\n",
       "      <th>2</th>\n",
       "      <td>2015-01-01 08:00:00</td>\n",
       "      <td>1</td>\n",
       "      <td>NaN</td>\n",
       "    </tr>\n",
       "    <tr>\n",
       "      <th>3</th>\n",
       "      <td>2015-01-01 09:00:00</td>\n",
       "      <td>1</td>\n",
       "      <td>NaN</td>\n",
       "    </tr>\n",
       "    <tr>\n",
       "      <th>4</th>\n",
       "      <td>2015-01-01 10:00:00</td>\n",
       "      <td>1</td>\n",
       "      <td>NaN</td>\n",
       "    </tr>\n",
       "    <tr>\n",
       "      <th>...</th>\n",
       "      <td>...</td>\n",
       "      <td>...</td>\n",
       "      <td>...</td>\n",
       "    </tr>\n",
       "    <tr>\n",
       "      <th>876137</th>\n",
       "      <td>2016-01-01 02:00:00</td>\n",
       "      <td>100</td>\n",
       "      <td>NaN</td>\n",
       "    </tr>\n",
       "    <tr>\n",
       "      <th>876138</th>\n",
       "      <td>2016-01-01 03:00:00</td>\n",
       "      <td>100</td>\n",
       "      <td>NaN</td>\n",
       "    </tr>\n",
       "    <tr>\n",
       "      <th>876139</th>\n",
       "      <td>2016-01-01 04:00:00</td>\n",
       "      <td>100</td>\n",
       "      <td>NaN</td>\n",
       "    </tr>\n",
       "    <tr>\n",
       "      <th>876140</th>\n",
       "      <td>2016-01-01 05:00:00</td>\n",
       "      <td>100</td>\n",
       "      <td>NaN</td>\n",
       "    </tr>\n",
       "    <tr>\n",
       "      <th>876141</th>\n",
       "      <td>2016-01-01 06:00:00</td>\n",
       "      <td>100</td>\n",
       "      <td>NaN</td>\n",
       "    </tr>\n",
       "  </tbody>\n",
       "</table>\n",
       "<p>876142 rows × 3 columns</p>\n",
       "</div>"
      ],
      "text/plain": [
       "                  datetime  machineID comp\n",
       "0      2015-01-01 06:00:00          1  NaN\n",
       "1      2015-01-01 07:00:00          1  NaN\n",
       "2      2015-01-01 08:00:00          1  NaN\n",
       "3      2015-01-01 09:00:00          1  NaN\n",
       "4      2015-01-01 10:00:00          1  NaN\n",
       "...                    ...        ...  ...\n",
       "876137 2016-01-01 02:00:00        100  NaN\n",
       "876138 2016-01-01 03:00:00        100  NaN\n",
       "876139 2016-01-01 04:00:00        100  NaN\n",
       "876140 2016-01-01 05:00:00        100  NaN\n",
       "876141 2016-01-01 06:00:00        100  NaN\n",
       "\n",
       "[876142 rows x 3 columns]"
      ]
     },
     "execution_count": 32,
     "metadata": {},
     "output_type": "execute_result"
    }
   ],
   "source": [
    "df_failures=df_failures.merge(df_telemetry[['datetime','machineID']],how='outer')\n",
    "df_failures.sort_values(['machineID','datetime'],axis = 0, ascending = True, inplace = True)\n",
    "df_failures.reset_index(drop=True,inplace=True)\n",
    "df_failures"
   ]
  },
  {
   "cell_type": "code",
   "execution_count": 33,
   "metadata": {},
   "outputs": [
    {
     "data": {
      "text/html": [
       "<div>\n",
       "<style scoped>\n",
       "    .dataframe tbody tr th:only-of-type {\n",
       "        vertical-align: middle;\n",
       "    }\n",
       "\n",
       "    .dataframe tbody tr th {\n",
       "        vertical-align: top;\n",
       "    }\n",
       "\n",
       "    .dataframe thead th {\n",
       "        text-align: right;\n",
       "    }\n",
       "</style>\n",
       "<table border=\"1\" class=\"dataframe\">\n",
       "  <thead>\n",
       "    <tr style=\"text-align: right;\">\n",
       "      <th></th>\n",
       "      <th>datetime</th>\n",
       "      <th>machineID</th>\n",
       "      <th>failure</th>\n",
       "    </tr>\n",
       "  </thead>\n",
       "  <tbody>\n",
       "    <tr>\n",
       "      <th>0</th>\n",
       "      <td>2015-01-01 06:00:00</td>\n",
       "      <td>1</td>\n",
       "      <td>No_failure</td>\n",
       "    </tr>\n",
       "    <tr>\n",
       "      <th>1</th>\n",
       "      <td>2015-01-01 07:00:00</td>\n",
       "      <td>1</td>\n",
       "      <td>No_failure</td>\n",
       "    </tr>\n",
       "    <tr>\n",
       "      <th>2</th>\n",
       "      <td>2015-01-01 08:00:00</td>\n",
       "      <td>1</td>\n",
       "      <td>No_failure</td>\n",
       "    </tr>\n",
       "    <tr>\n",
       "      <th>3</th>\n",
       "      <td>2015-01-01 09:00:00</td>\n",
       "      <td>1</td>\n",
       "      <td>No_failure</td>\n",
       "    </tr>\n",
       "    <tr>\n",
       "      <th>4</th>\n",
       "      <td>2015-01-01 10:00:00</td>\n",
       "      <td>1</td>\n",
       "      <td>No_failure</td>\n",
       "    </tr>\n",
       "    <tr>\n",
       "      <th>...</th>\n",
       "      <td>...</td>\n",
       "      <td>...</td>\n",
       "      <td>...</td>\n",
       "    </tr>\n",
       "    <tr>\n",
       "      <th>876137</th>\n",
       "      <td>2016-01-01 02:00:00</td>\n",
       "      <td>100</td>\n",
       "      <td>No_failure</td>\n",
       "    </tr>\n",
       "    <tr>\n",
       "      <th>876138</th>\n",
       "      <td>2016-01-01 03:00:00</td>\n",
       "      <td>100</td>\n",
       "      <td>No_failure</td>\n",
       "    </tr>\n",
       "    <tr>\n",
       "      <th>876139</th>\n",
       "      <td>2016-01-01 04:00:00</td>\n",
       "      <td>100</td>\n",
       "      <td>No_failure</td>\n",
       "    </tr>\n",
       "    <tr>\n",
       "      <th>876140</th>\n",
       "      <td>2016-01-01 05:00:00</td>\n",
       "      <td>100</td>\n",
       "      <td>No_failure</td>\n",
       "    </tr>\n",
       "    <tr>\n",
       "      <th>876141</th>\n",
       "      <td>2016-01-01 06:00:00</td>\n",
       "      <td>100</td>\n",
       "      <td>No_failure</td>\n",
       "    </tr>\n",
       "  </tbody>\n",
       "</table>\n",
       "<p>876142 rows × 3 columns</p>\n",
       "</div>"
      ],
      "text/plain": [
       "                  datetime  machineID     failure\n",
       "0      2015-01-01 06:00:00          1  No_failure\n",
       "1      2015-01-01 07:00:00          1  No_failure\n",
       "2      2015-01-01 08:00:00          1  No_failure\n",
       "3      2015-01-01 09:00:00          1  No_failure\n",
       "4      2015-01-01 10:00:00          1  No_failure\n",
       "...                    ...        ...         ...\n",
       "876137 2016-01-01 02:00:00        100  No_failure\n",
       "876138 2016-01-01 03:00:00        100  No_failure\n",
       "876139 2016-01-01 04:00:00        100  No_failure\n",
       "876140 2016-01-01 05:00:00        100  No_failure\n",
       "876141 2016-01-01 06:00:00        100  No_failure\n",
       "\n",
       "[876142 rows x 3 columns]"
      ]
     },
     "execution_count": 33,
     "metadata": {},
     "output_type": "execute_result"
    }
   ],
   "source": [
    "df_failures = df_failures.fillna(method='bfill', limit=24) # fill backward up to 24h\n",
    "df_failures['comp'] = df_failures['comp'].astype('str')\n",
    "df_failures.replace({'nan': 'No_failure'}, inplace= True)\n",
    "df_failures.rename(columns={'comp':'failure'}, inplace=True)\n",
    "df_failures"
   ]
  },
  {
   "cell_type": "code",
   "execution_count": 34,
   "metadata": {},
   "outputs": [
    {
     "name": "stdout",
     "output_type": "stream",
     "text": [
      "<class 'pandas.core.frame.DataFrame'>\n",
      "Int64Index: 218400 entries, 0 to 218399\n",
      "Data columns (total 49 columns):\n",
      " #   Column                Non-Null Count   Dtype         \n",
      "---  ------                --------------   -----         \n",
      " 0   machineID             218400 non-null  int64         \n",
      " 1   datetime              218400 non-null  datetime64[ns]\n",
      " 2   volt_min_4h           218400 non-null  float64       \n",
      " 3   rotate_min_4h         218400 non-null  float64       \n",
      " 4   pressure_min_4h       218400 non-null  float64       \n",
      " 5   vibration_min_4h      218400 non-null  float64       \n",
      " 6   volt_max_4h           218400 non-null  float64       \n",
      " 7   rotate_max_4h         218400 non-null  float64       \n",
      " 8   pressure_max_4h       218400 non-null  float64       \n",
      " 9   vibration_max_4h      218400 non-null  float64       \n",
      " 10  volt_mean_4h          218400 non-null  float64       \n",
      " 11  rotate_mean_4h        218400 non-null  float64       \n",
      " 12  pressure_mean_4h      218400 non-null  float64       \n",
      " 13  vibration_mean_4h     218400 non-null  float64       \n",
      " 14  volt_median_4h        218400 non-null  float64       \n",
      " 15  rotate_median_4h      218400 non-null  float64       \n",
      " 16  pressure_median_4h    218400 non-null  float64       \n",
      " 17  vibration_median_4h   218400 non-null  float64       \n",
      " 18  volt_max_24h          218400 non-null  float64       \n",
      " 19  rotate_max_24h        218400 non-null  float64       \n",
      " 20  pressure_max_24h      218400 non-null  float64       \n",
      " 21  vibration_max_24h     218400 non-null  float64       \n",
      " 22  volt_min_24h          218400 non-null  float64       \n",
      " 23  rotate_min_24h        218400 non-null  float64       \n",
      " 24  pressure_min_24h      218400 non-null  float64       \n",
      " 25  vibration_min_24h     218400 non-null  float64       \n",
      " 26  volt_median_24h       218400 non-null  float64       \n",
      " 27  rotate_median_24h     218400 non-null  float64       \n",
      " 28  pressure_median_24h   218400 non-null  float64       \n",
      " 29  vibration_median_24h  218400 non-null  float64       \n",
      " 30  volt_mean_24h         218400 non-null  float64       \n",
      " 31  rotate_mean_24h       218400 non-null  float64       \n",
      " 32  pressure_mean_24h     218400 non-null  float64       \n",
      " 33  vibration_mean_24h    218400 non-null  float64       \n",
      " 34  age                   218400 non-null  int64         \n",
      " 35  model_model1          218400 non-null  uint8         \n",
      " 36  model_model2          218400 non-null  uint8         \n",
      " 37  model_model3          218400 non-null  uint8         \n",
      " 38  model_model4          218400 non-null  uint8         \n",
      " 39  error1total_24h       218400 non-null  float64       \n",
      " 40  error2total_24h       218400 non-null  float64       \n",
      " 41  error3total_24h       218400 non-null  float64       \n",
      " 42  error4total_24h       218400 non-null  float64       \n",
      " 43  error5total_24h       218400 non-null  float64       \n",
      " 44  comp1age              218400 non-null  float64       \n",
      " 45  comp2age              218400 non-null  float64       \n",
      " 46  comp3age              218400 non-null  float64       \n",
      " 47  comp4age              218400 non-null  float64       \n",
      " 48  failure               218400 non-null  object        \n",
      "dtypes: datetime64[ns](1), float64(41), int64(2), object(1), uint8(4)\n",
      "memory usage: 77.5+ MB\n"
     ]
    }
   ],
   "source": [
    "df_features = df_features.merge(df_failures, on=['datetime', 'machineID'], how='left')\n",
    "df_features.info()"
   ]
  },
  {
   "cell_type": "markdown",
   "metadata": {},
   "source": [
    "# Modeling"
   ]
  },
  {
   "cell_type": "code",
   "execution_count": 35,
   "metadata": {},
   "outputs": [
    {
     "data": {
      "text/html": [
       "<div>\n",
       "<style scoped>\n",
       "    .dataframe tbody tr th:only-of-type {\n",
       "        vertical-align: middle;\n",
       "    }\n",
       "\n",
       "    .dataframe tbody tr th {\n",
       "        vertical-align: top;\n",
       "    }\n",
       "\n",
       "    .dataframe thead th {\n",
       "        text-align: right;\n",
       "    }\n",
       "</style>\n",
       "<table border=\"1\" class=\"dataframe\">\n",
       "  <thead>\n",
       "    <tr style=\"text-align: right;\">\n",
       "      <th></th>\n",
       "      <th>machineID</th>\n",
       "      <th>datetime</th>\n",
       "      <th>volt_min_4h</th>\n",
       "      <th>rotate_min_4h</th>\n",
       "      <th>pressure_min_4h</th>\n",
       "      <th>vibration_min_4h</th>\n",
       "      <th>volt_max_4h</th>\n",
       "      <th>rotate_max_4h</th>\n",
       "      <th>pressure_max_4h</th>\n",
       "      <th>vibration_max_4h</th>\n",
       "      <th>...</th>\n",
       "      <th>error1total_24h</th>\n",
       "      <th>error2total_24h</th>\n",
       "      <th>error3total_24h</th>\n",
       "      <th>error4total_24h</th>\n",
       "      <th>error5total_24h</th>\n",
       "      <th>comp1age</th>\n",
       "      <th>comp2age</th>\n",
       "      <th>comp3age</th>\n",
       "      <th>comp4age</th>\n",
       "      <th>failure</th>\n",
       "    </tr>\n",
       "  </thead>\n",
       "  <tbody>\n",
       "    <tr>\n",
       "      <th>0</th>\n",
       "      <td>1</td>\n",
       "      <td>2015-01-02 08:00:00</td>\n",
       "      <td>171.200895</td>\n",
       "      <td>384.645962</td>\n",
       "      <td>93.439290</td>\n",
       "      <td>29.527665</td>\n",
       "      <td>200.872430</td>\n",
       "      <td>495.777958</td>\n",
       "      <td>114.342061</td>\n",
       "      <td>52.355876</td>\n",
       "      <td>...</td>\n",
       "      <td>0.0</td>\n",
       "      <td>0.0</td>\n",
       "      <td>0.0</td>\n",
       "      <td>0.0</td>\n",
       "      <td>0.0</td>\n",
       "      <td>482.0</td>\n",
       "      <td>5162.0</td>\n",
       "      <td>3722.0</td>\n",
       "      <td>4082.0</td>\n",
       "      <td>No_failure</td>\n",
       "    </tr>\n",
       "    <tr>\n",
       "      <th>1</th>\n",
       "      <td>43</td>\n",
       "      <td>2015-01-02 08:00:00</td>\n",
       "      <td>157.925277</td>\n",
       "      <td>447.342501</td>\n",
       "      <td>81.227912</td>\n",
       "      <td>38.803007</td>\n",
       "      <td>179.829190</td>\n",
       "      <td>530.945173</td>\n",
       "      <td>110.538177</td>\n",
       "      <td>54.920000</td>\n",
       "      <td>...</td>\n",
       "      <td>0.0</td>\n",
       "      <td>0.0</td>\n",
       "      <td>0.0</td>\n",
       "      <td>0.0</td>\n",
       "      <td>0.0</td>\n",
       "      <td>4082.0</td>\n",
       "      <td>4802.0</td>\n",
       "      <td>3722.0</td>\n",
       "      <td>1562.0</td>\n",
       "      <td>No_failure</td>\n",
       "    </tr>\n",
       "    <tr>\n",
       "      <th>2</th>\n",
       "      <td>92</td>\n",
       "      <td>2015-01-02 08:00:00</td>\n",
       "      <td>163.517033</td>\n",
       "      <td>390.662248</td>\n",
       "      <td>91.993183</td>\n",
       "      <td>38.517466</td>\n",
       "      <td>169.940327</td>\n",
       "      <td>541.269640</td>\n",
       "      <td>113.833222</td>\n",
       "      <td>47.011794</td>\n",
       "      <td>...</td>\n",
       "      <td>0.0</td>\n",
       "      <td>0.0</td>\n",
       "      <td>0.0</td>\n",
       "      <td>0.0</td>\n",
       "      <td>0.0</td>\n",
       "      <td>4802.0</td>\n",
       "      <td>842.0</td>\n",
       "      <td>2642.0</td>\n",
       "      <td>1562.0</td>\n",
       "      <td>No_failure</td>\n",
       "    </tr>\n",
       "    <tr>\n",
       "      <th>3</th>\n",
       "      <td>18</td>\n",
       "      <td>2015-01-02 08:00:00</td>\n",
       "      <td>138.267198</td>\n",
       "      <td>416.740583</td>\n",
       "      <td>95.152714</td>\n",
       "      <td>34.527381</td>\n",
       "      <td>189.926747</td>\n",
       "      <td>454.673589</td>\n",
       "      <td>111.516447</td>\n",
       "      <td>48.018607</td>\n",
       "      <td>...</td>\n",
       "      <td>0.0</td>\n",
       "      <td>0.0</td>\n",
       "      <td>0.0</td>\n",
       "      <td>0.0</td>\n",
       "      <td>0.0</td>\n",
       "      <td>842.0</td>\n",
       "      <td>3362.0</td>\n",
       "      <td>5162.0</td>\n",
       "      <td>4802.0</td>\n",
       "      <td>No_failure</td>\n",
       "    </tr>\n",
       "    <tr>\n",
       "      <th>4</th>\n",
       "      <td>63</td>\n",
       "      <td>2015-01-02 08:00:00</td>\n",
       "      <td>157.292282</td>\n",
       "      <td>458.115531</td>\n",
       "      <td>100.637767</td>\n",
       "      <td>31.916473</td>\n",
       "      <td>178.979888</td>\n",
       "      <td>473.309596</td>\n",
       "      <td>111.187410</td>\n",
       "      <td>51.101662</td>\n",
       "      <td>...</td>\n",
       "      <td>0.0</td>\n",
       "      <td>0.0</td>\n",
       "      <td>0.0</td>\n",
       "      <td>0.0</td>\n",
       "      <td>0.0</td>\n",
       "      <td>4082.0</td>\n",
       "      <td>1922.0</td>\n",
       "      <td>1922.0</td>\n",
       "      <td>4082.0</td>\n",
       "      <td>No_failure</td>\n",
       "    </tr>\n",
       "    <tr>\n",
       "      <th>...</th>\n",
       "      <td>...</td>\n",
       "      <td>...</td>\n",
       "      <td>...</td>\n",
       "      <td>...</td>\n",
       "      <td>...</td>\n",
       "      <td>...</td>\n",
       "      <td>...</td>\n",
       "      <td>...</td>\n",
       "      <td>...</td>\n",
       "      <td>...</td>\n",
       "      <td>...</td>\n",
       "      <td>...</td>\n",
       "      <td>...</td>\n",
       "      <td>...</td>\n",
       "      <td>...</td>\n",
       "      <td>...</td>\n",
       "      <td>...</td>\n",
       "      <td>...</td>\n",
       "      <td>...</td>\n",
       "      <td>...</td>\n",
       "      <td>...</td>\n",
       "    </tr>\n",
       "    <tr>\n",
       "      <th>218395</th>\n",
       "      <td>70</td>\n",
       "      <td>2016-01-01 04:00:00</td>\n",
       "      <td>166.886821</td>\n",
       "      <td>408.202528</td>\n",
       "      <td>90.328044</td>\n",
       "      <td>40.901386</td>\n",
       "      <td>188.620627</td>\n",
       "      <td>520.292026</td>\n",
       "      <td>100.959739</td>\n",
       "      <td>45.210544</td>\n",
       "      <td>...</td>\n",
       "      <td>0.0</td>\n",
       "      <td>0.0</td>\n",
       "      <td>0.0</td>\n",
       "      <td>0.0</td>\n",
       "      <td>0.0</td>\n",
       "      <td>550.0</td>\n",
       "      <td>550.0</td>\n",
       "      <td>910.0</td>\n",
       "      <td>190.0</td>\n",
       "      <td>No_failure</td>\n",
       "    </tr>\n",
       "    <tr>\n",
       "      <th>218396</th>\n",
       "      <td>71</td>\n",
       "      <td>2016-01-01 04:00:00</td>\n",
       "      <td>144.917616</td>\n",
       "      <td>280.885758</td>\n",
       "      <td>92.607631</td>\n",
       "      <td>33.895448</td>\n",
       "      <td>190.674464</td>\n",
       "      <td>479.649412</td>\n",
       "      <td>112.635776</td>\n",
       "      <td>36.691231</td>\n",
       "      <td>...</td>\n",
       "      <td>0.0</td>\n",
       "      <td>0.0</td>\n",
       "      <td>0.0</td>\n",
       "      <td>0.0</td>\n",
       "      <td>0.0</td>\n",
       "      <td>1318.0</td>\n",
       "      <td>2398.0</td>\n",
       "      <td>238.0</td>\n",
       "      <td>2038.0</td>\n",
       "      <td>No_failure</td>\n",
       "    </tr>\n",
       "    <tr>\n",
       "      <th>218397</th>\n",
       "      <td>72</td>\n",
       "      <td>2016-01-01 04:00:00</td>\n",
       "      <td>153.498678</td>\n",
       "      <td>411.697331</td>\n",
       "      <td>107.082587</td>\n",
       "      <td>31.963662</td>\n",
       "      <td>166.547056</td>\n",
       "      <td>462.732735</td>\n",
       "      <td>131.167902</td>\n",
       "      <td>48.344292</td>\n",
       "      <td>...</td>\n",
       "      <td>0.0</td>\n",
       "      <td>0.0</td>\n",
       "      <td>0.0</td>\n",
       "      <td>0.0</td>\n",
       "      <td>0.0</td>\n",
       "      <td>1390.0</td>\n",
       "      <td>3550.0</td>\n",
       "      <td>1750.0</td>\n",
       "      <td>310.0</td>\n",
       "      <td>comp2</td>\n",
       "    </tr>\n",
       "    <tr>\n",
       "      <th>218398</th>\n",
       "      <td>74</td>\n",
       "      <td>2016-01-01 04:00:00</td>\n",
       "      <td>139.472083</td>\n",
       "      <td>405.179556</td>\n",
       "      <td>86.273427</td>\n",
       "      <td>31.744190</td>\n",
       "      <td>203.299411</td>\n",
       "      <td>484.675723</td>\n",
       "      <td>103.737828</td>\n",
       "      <td>49.984777</td>\n",
       "      <td>...</td>\n",
       "      <td>0.0</td>\n",
       "      <td>0.0</td>\n",
       "      <td>0.0</td>\n",
       "      <td>0.0</td>\n",
       "      <td>0.0</td>\n",
       "      <td>2110.0</td>\n",
       "      <td>670.0</td>\n",
       "      <td>1390.0</td>\n",
       "      <td>310.0</td>\n",
       "      <td>No_failure</td>\n",
       "    </tr>\n",
       "    <tr>\n",
       "      <th>218399</th>\n",
       "      <td>100</td>\n",
       "      <td>2016-01-01 04:00:00</td>\n",
       "      <td>162.742669</td>\n",
       "      <td>395.222827</td>\n",
       "      <td>98.180607</td>\n",
       "      <td>35.123072</td>\n",
       "      <td>189.617555</td>\n",
       "      <td>481.253908</td>\n",
       "      <td>103.158233</td>\n",
       "      <td>50.771941</td>\n",
       "      <td>...</td>\n",
       "      <td>0.0</td>\n",
       "      <td>0.0</td>\n",
       "      <td>0.0</td>\n",
       "      <td>0.0</td>\n",
       "      <td>0.0</td>\n",
       "      <td>1990.0</td>\n",
       "      <td>190.0</td>\n",
       "      <td>1990.0</td>\n",
       "      <td>1270.0</td>\n",
       "      <td>No_failure</td>\n",
       "    </tr>\n",
       "  </tbody>\n",
       "</table>\n",
       "<p>218400 rows × 49 columns</p>\n",
       "</div>"
      ],
      "text/plain": [
       "        machineID            datetime  volt_min_4h  rotate_min_4h  \\\n",
       "0               1 2015-01-02 08:00:00   171.200895     384.645962   \n",
       "1              43 2015-01-02 08:00:00   157.925277     447.342501   \n",
       "2              92 2015-01-02 08:00:00   163.517033     390.662248   \n",
       "3              18 2015-01-02 08:00:00   138.267198     416.740583   \n",
       "4              63 2015-01-02 08:00:00   157.292282     458.115531   \n",
       "...           ...                 ...          ...            ...   \n",
       "218395         70 2016-01-01 04:00:00   166.886821     408.202528   \n",
       "218396         71 2016-01-01 04:00:00   144.917616     280.885758   \n",
       "218397         72 2016-01-01 04:00:00   153.498678     411.697331   \n",
       "218398         74 2016-01-01 04:00:00   139.472083     405.179556   \n",
       "218399        100 2016-01-01 04:00:00   162.742669     395.222827   \n",
       "\n",
       "        pressure_min_4h  vibration_min_4h  volt_max_4h  rotate_max_4h  \\\n",
       "0             93.439290         29.527665   200.872430     495.777958   \n",
       "1             81.227912         38.803007   179.829190     530.945173   \n",
       "2             91.993183         38.517466   169.940327     541.269640   \n",
       "3             95.152714         34.527381   189.926747     454.673589   \n",
       "4            100.637767         31.916473   178.979888     473.309596   \n",
       "...                 ...               ...          ...            ...   \n",
       "218395        90.328044         40.901386   188.620627     520.292026   \n",
       "218396        92.607631         33.895448   190.674464     479.649412   \n",
       "218397       107.082587         31.963662   166.547056     462.732735   \n",
       "218398        86.273427         31.744190   203.299411     484.675723   \n",
       "218399        98.180607         35.123072   189.617555     481.253908   \n",
       "\n",
       "        pressure_max_4h  vibration_max_4h  ...  error1total_24h  \\\n",
       "0            114.342061         52.355876  ...              0.0   \n",
       "1            110.538177         54.920000  ...              0.0   \n",
       "2            113.833222         47.011794  ...              0.0   \n",
       "3            111.516447         48.018607  ...              0.0   \n",
       "4            111.187410         51.101662  ...              0.0   \n",
       "...                 ...               ...  ...              ...   \n",
       "218395       100.959739         45.210544  ...              0.0   \n",
       "218396       112.635776         36.691231  ...              0.0   \n",
       "218397       131.167902         48.344292  ...              0.0   \n",
       "218398       103.737828         49.984777  ...              0.0   \n",
       "218399       103.158233         50.771941  ...              0.0   \n",
       "\n",
       "        error2total_24h  error3total_24h  error4total_24h  error5total_24h  \\\n",
       "0                   0.0              0.0              0.0              0.0   \n",
       "1                   0.0              0.0              0.0              0.0   \n",
       "2                   0.0              0.0              0.0              0.0   \n",
       "3                   0.0              0.0              0.0              0.0   \n",
       "4                   0.0              0.0              0.0              0.0   \n",
       "...                 ...              ...              ...              ...   \n",
       "218395              0.0              0.0              0.0              0.0   \n",
       "218396              0.0              0.0              0.0              0.0   \n",
       "218397              0.0              0.0              0.0              0.0   \n",
       "218398              0.0              0.0              0.0              0.0   \n",
       "218399              0.0              0.0              0.0              0.0   \n",
       "\n",
       "        comp1age  comp2age  comp3age  comp4age     failure  \n",
       "0          482.0    5162.0    3722.0    4082.0  No_failure  \n",
       "1         4082.0    4802.0    3722.0    1562.0  No_failure  \n",
       "2         4802.0     842.0    2642.0    1562.0  No_failure  \n",
       "3          842.0    3362.0    5162.0    4802.0  No_failure  \n",
       "4         4082.0    1922.0    1922.0    4082.0  No_failure  \n",
       "...          ...       ...       ...       ...         ...  \n",
       "218395     550.0     550.0     910.0     190.0  No_failure  \n",
       "218396    1318.0    2398.0     238.0    2038.0  No_failure  \n",
       "218397    1390.0    3550.0    1750.0     310.0       comp2  \n",
       "218398    2110.0     670.0    1390.0     310.0  No_failure  \n",
       "218399    1990.0     190.0    1990.0    1270.0  No_failure  \n",
       "\n",
       "[218400 rows x 49 columns]"
      ]
     },
     "execution_count": 35,
     "metadata": {},
     "output_type": "execute_result"
    }
   ],
   "source": [
    "df_features.sort_values(['datetime'],axis = 0, ascending = True, inplace = True)\n",
    "df_features.dropna(inplace=True)\n",
    "df_features.reset_index(drop=True,inplace=True)\n",
    "df_features"
   ]
  },
  {
   "cell_type": "code",
   "execution_count": 36,
   "metadata": {},
   "outputs": [
    {
     "data": {
      "text/plain": [
       "No_failure    214189\n",
       "comp2           1485\n",
       "comp1           1095\n",
       "comp4            915\n",
       "comp3            716\n",
       "Name: failure, dtype: int64"
      ]
     },
     "execution_count": 36,
     "metadata": {},
     "output_type": "execute_result"
    }
   ],
   "source": [
    "df_features['failure'].value_counts() "
   ]
  },
  {
   "cell_type": "code",
   "execution_count": 37,
   "metadata": {},
   "outputs": [],
   "source": [
    "non_feature_columns = ['machineID','datetime','failure']\n",
    "\n",
    "feature_keys = [key for key in df_features.keys() if key not in non_feature_columns] \n",
    "error_keys = [key for key in df_features.keys() if 'error' in key and key not in non_feature_columns]\n",
    "non_error_keys = [key for key in df_features.keys() if 'error' not in key and key not in non_feature_columns]"
   ]
  },
  {
   "cell_type": "code",
   "execution_count": 38,
   "metadata": {},
   "outputs": [],
   "source": [
    "#X=df_features.drop(columns=['machineID','datetime','failure'])\n",
    "#X = df_features[error_keys]\n",
    "X = df_features[feature_keys]"
   ]
  },
  {
   "cell_type": "code",
   "execution_count": 39,
   "metadata": {},
   "outputs": [],
   "source": [
    "Y=df_features['failure']"
   ]
  },
  {
   "cell_type": "code",
   "execution_count": 40,
   "metadata": {},
   "outputs": [],
   "source": [
    "X_train, X_test, y_train, y_test = train_test_split(X, Y, test_size=0.30, shuffle=False)"
   ]
  },
  {
   "cell_type": "code",
   "execution_count": 41,
   "metadata": {},
   "outputs": [],
   "source": [
    "scaler = MinMaxScaler()\n",
    "scaler.fit(X_train)\n",
    "scaled_X_train=scaler.transform(X_train)\n",
    "scaled_X_test=scaler.transform(X_test)"
   ]
  },
  {
   "cell_type": "code",
   "execution_count": 42,
   "metadata": {},
   "outputs": [
    {
     "name": "stdout",
     "output_type": "stream",
     "text": [
      "{'No_failure': 0, 'comp1': 1, 'comp2': 2, 'comp3': 3, 'comp4': 4}\n"
     ]
    }
   ],
   "source": [
    "label_encoder = LabelEncoder()\n",
    "label_encoder.fit(y_train)\n",
    "encoded_y_train = label_encoder.transform(y_train)\n",
    "encoded_y_test = label_encoder.transform(y_test)\n",
    "la_name_mapping = dict(zip(label_encoder.classes_, label_encoder.transform(label_encoder.classes_)))\n",
    "print(la_name_mapping)"
   ]
  },
  {
   "cell_type": "markdown",
   "metadata": {},
   "source": [
    "## XGB Classifier:"
   ]
  },
  {
   "cell_type": "code",
   "execution_count": 43,
   "metadata": {},
   "outputs": [
    {
     "name": "stdout",
     "output_type": "stream",
     "text": [
      "CPU Execution time for training is  202.260131086 seconds\n"
     ]
    }
   ],
   "source": [
    "seed = 42\n",
    "np.random.seed(seed)\n",
    "\n",
    "start_time= time.process_time()\n",
    "XGB=XGBClassifier(random_state=seed)\n",
    "model1=XGB.fit(scaled_X_train,encoded_y_train)\n",
    "end_time= time.process_time()\n",
    "print('CPU Execution time for training is ', end_time-start_time, 'seconds')"
   ]
  },
  {
   "cell_type": "code",
   "execution_count": 44,
   "metadata": {},
   "outputs": [],
   "source": [
    "XGB_y_pred=model1.predict(scaled_X_test)"
   ]
  },
  {
   "cell_type": "code",
   "execution_count": 45,
   "metadata": {},
   "outputs": [
    {
     "data": {
      "image/png": "[encoded data removed]",
      "text/plain": [
       "<Figure size 648x288 with 2 Axes>"
      ]
     },
     "metadata": {},
     "output_type": "display_data"
    }
   ],
   "source": [
    "cr_XGB_case1=classification_report_heatmap(encoded_y_test,XGB_y_pred,'XGB')"
   ]
  },
  {
   "cell_type": "code",
   "execution_count": 46,
   "metadata": {},
   "outputs": [
    {
     "data": {
      "image/png": "[encoded data removed]",
      "text/plain": [
       "<Figure size 432x432 with 2 Axes>"
      ]
     },
     "metadata": {},
     "output_type": "display_data"
    }
   ],
   "source": [
    "confusion_matrix_display(y_pred=XGB_y_pred, y_test=encoded_y_test,model_name='XGB')"
   ]
  },
  {
   "cell_type": "markdown",
   "metadata": {},
   "source": [
    "## K-Nearest Neighbours"
   ]
  },
  {
   "cell_type": "code",
   "execution_count": 47,
   "metadata": {},
   "outputs": [
    {
     "name": "stdout",
     "output_type": "stream",
     "text": [
      "CPU Execution time for training is  0.029393604000006235 seconds\n"
     ]
    }
   ],
   "source": [
    "np.random.seed(seed)\n",
    "\n",
    "start_time=time.process_time()\n",
    "KNN=KNeighborsClassifier()\n",
    "model2=KNN.fit(scaled_X_train,encoded_y_train)\n",
    "end_time=time.process_time()\n",
    "print('CPU Execution time for training is ', end_time-start_time, 'seconds')"
   ]
  },
  {
   "cell_type": "code",
   "execution_count": 48,
   "metadata": {},
   "outputs": [
    {
     "name": "stderr",
     "output_type": "stream",
     "text": [
      "Exception ignored on calling ctypes callback function: <function _ThreadpoolInfo._find_modules_with_dl_iterate_phdr.<locals>.match_module_callback at 0x7f38cc7cdca0>\n",
      "Traceback (most recent call last):\n",
      "  File \"/home/mizolotu/anaconda3/lib/python3.8/site-packages/threadpoolctl.py\", line 400, in match_module_callback\n",
      "    self._make_module_from_path(filepath)\n",
      "  File \"/home/mizolotu/anaconda3/lib/python3.8/site-packages/threadpoolctl.py\", line 515, in _make_module_from_path\n",
      "    module = module_class(filepath, prefix, user_api, internal_api)\n",
      "  File \"/home/mizolotu/anaconda3/lib/python3.8/site-packages/threadpoolctl.py\", line 606, in __init__\n",
      "    self.version = self.get_version()\n",
      "  File \"/home/mizolotu/anaconda3/lib/python3.8/site-packages/threadpoolctl.py\", line 646, in get_version\n",
      "    config = get_config().split()\n",
      "AttributeError: 'NoneType' object has no attribute 'split'\n"
     ]
    },
    {
     "name": "stdout",
     "output_type": "stream",
     "text": [
      "CPU Execution time for prediction is  68.14901755100001 seconds\n"
     ]
    }
   ],
   "source": [
    "start_time=time.process_time()\n",
    "KNN_y_pred=model2.predict(scaled_X_test)\n",
    "end_time=time.process_time()\n",
    "print('CPU Execution time for prediction is ', end_time-start_time, 'seconds')"
   ]
  },
  {
   "cell_type": "code",
   "execution_count": 49,
   "metadata": {},
   "outputs": [
    {
     "data": {
      "image/png": "[encoded data removed]",
      "text/plain": [
       "<Figure size 648x288 with 2 Axes>"
      ]
     },
     "metadata": {},
     "output_type": "display_data"
    }
   ],
   "source": [
    "cr_KNN_case1=classification_report_heatmap(encoded_y_test,KNN_y_pred,'K_Nearset Neighbours')"
   ]
  },
  {
   "cell_type": "code",
   "execution_count": 50,
   "metadata": {},
   "outputs": [
    {
     "data": {
      "image/png": "[encoded data removed]",
      "text/plain": [
       "<Figure size 432x432 with 2 Axes>"
      ]
     },
     "metadata": {},
     "output_type": "display_data"
    }
   ],
   "source": [
    "confusion_matrix_display(y_pred=KNN_y_pred, y_test=encoded_y_test,model_name='K_Nearest Neighbours')"
   ]
  },
  {
   "cell_type": "markdown",
   "metadata": {},
   "source": [
    "## Random forest classifier"
   ]
  },
  {
   "cell_type": "code",
   "execution_count": 51,
   "metadata": {},
   "outputs": [
    {
     "name": "stdout",
     "output_type": "stream",
     "text": [
      "CPU Execution time for training is  47.73111156799996 seconds\n"
     ]
    }
   ],
   "source": [
    "np.random.seed(seed)\n",
    "\n",
    "start_time=time.process_time()\n",
    "RF = RandomForestClassifier(random_state=seed)\n",
    "model3=RF.fit(scaled_X_train,encoded_y_train)\n",
    "end_time=time.process_time()\n",
    "print('CPU Execution time for training is ', end_time-start_time, 'seconds')"
   ]
  },
  {
   "cell_type": "code",
   "execution_count": 52,
   "metadata": {},
   "outputs": [
    {
     "name": "stdout",
     "output_type": "stream",
     "text": [
      "CPU Execution time for prediction is  0.32205005000002984 seconds\n"
     ]
    }
   ],
   "source": [
    "start_time=time.process_time()\n",
    "RF_y_pred = model3.predict(scaled_X_test)\n",
    "end_time=time.process_time()\n",
    "print('CPU Execution time for prediction is ', end_time-start_time, 'seconds')"
   ]
  },
  {
   "cell_type": "code",
   "execution_count": 53,
   "metadata": {},
   "outputs": [
    {
     "data": {
      "image/png": "[encoded data removed]",
      "text/plain": [
       "<Figure size 648x288 with 2 Axes>"
      ]
     },
     "metadata": {},
     "output_type": "display_data"
    }
   ],
   "source": [
    "cr_RF_case1=classification_report_heatmap(encoded_y_test,RF_y_pred,'Randon forest classifier')"
   ]
  },
  {
   "cell_type": "code",
   "execution_count": 54,
   "metadata": {},
   "outputs": [
    {
     "data": {
      "image/png": "[encoded data removed]",
      "text/plain": [
       "<Figure size 432x432 with 2 Axes>"
      ]
     },
     "metadata": {},
     "output_type": "display_data"
    }
   ],
   "source": [
    "confusion_matrix_display(y_pred=RF_y_pred, y_test=encoded_y_test,model_name='Random forest classifier')"
   ]
  },
  {
   "cell_type": "markdown",
   "metadata": {},
   "source": [
    "## Logistic  regression"
   ]
  },
  {
   "cell_type": "code",
   "execution_count": 55,
   "metadata": {},
   "outputs": [
    {
     "name": "stdout",
     "output_type": "stream",
     "text": [
      "CPU Execution time for training is  80.30024053 seconds\n"
     ]
    }
   ],
   "source": [
    "np.random.seed(seed)\n",
    "\n",
    "start_time=time.process_time()\n",
    "LR=LogisticRegression()\n",
    "model4=LR.fit(scaled_X_train,encoded_y_train)\n",
    "end_time=time.process_time()\n",
    "print('CPU Execution time for training is ', end_time-start_time, 'seconds')"
   ]
  },
  {
   "cell_type": "code",
   "execution_count": 56,
   "metadata": {},
   "outputs": [
    {
     "name": "stdout",
     "output_type": "stream",
     "text": [
      "CPU Execution time for training is  0.11067500900003324 seconds\n"
     ]
    }
   ],
   "source": [
    "start_time=time.process_time()\n",
    "LR_y_pred=model4.predict(scaled_X_test)\n",
    "end_time=time.process_time()\n",
    "print('CPU Execution time for training is ', end_time-start_time, 'seconds')"
   ]
  },
  {
   "cell_type": "code",
   "execution_count": 57,
   "metadata": {},
   "outputs": [
    {
     "data": {
      "image/png": "[encoded data removed]",
      "text/plain": [
       "<Figure size 648x288 with 2 Axes>"
      ]
     },
     "metadata": {},
     "output_type": "display_data"
    }
   ],
   "source": [
    "cr_LR_case1=classification_report_heatmap(encoded_y_test,LR_y_pred,'Logistic regression')"
   ]
  },
  {
   "cell_type": "code",
   "execution_count": 58,
   "metadata": {},
   "outputs": [
    {
     "data": {
      "image/png": "[encoded data removed]",
      "text/plain": [
       "<Figure size 432x432 with 2 Axes>"
      ]
     },
     "metadata": {},
     "output_type": "display_data"
    }
   ],
   "source": [
    "confusion_matrix_display(y_pred=LR_y_pred, y_test=encoded_y_test,model_name='Logistic regression')"
   ]
  },
  {
   "cell_type": "markdown",
   "metadata": {},
   "source": [
    "## Neural network"
   ]
  },
  {
   "cell_type": "code",
   "execution_count": 59,
   "metadata": {},
   "outputs": [],
   "source": [
    "import tensorflow as tf"
   ]
  },
  {
   "cell_type": "code",
   "execution_count": 60,
   "metadata": {},
   "outputs": [
    {
     "name": "stdout",
     "output_type": "stream",
     "text": [
      "Model: \"model\"\n",
      "_________________________________________________________________\n",
      " Layer (type)                Output Shape              Param #   \n",
      "=================================================================\n",
      " input_1 (InputLayer)        [(None, 46)]              0         \n",
      "                                                                 \n",
      " dense (Dense)               (None, 2048)              96256     \n",
      "                                                                 \n",
      " dropout (Dropout)           (None, 2048)              0         \n",
      "                                                                 \n",
      " dense_1 (Dense)             (None, 2048)              4196352   \n",
      "                                                                 \n",
      " dropout_1 (Dropout)         (None, 2048)              0         \n",
      "                                                                 \n",
      " dense_2 (Dense)             (None, 5)                 10245     \n",
      "                                                                 \n",
      "=================================================================\n",
      "Total params: 4,302,853\n",
      "Trainable params: 4,302,853\n",
      "Non-trainable params: 0\n",
      "_________________________________________________________________\n",
      "Before: (152880, 46), after: (749210, 46)\n"
     ]
    }
   ],
   "source": [
    "np.random.seed(seed)\n",
    "tf.random.set_seed(seed)\n",
    "tf.keras.utils.set_random_seed(seed)\n",
    "\n",
    "layers = [2048, 2048]\n",
    "loss = 'categorical_crossentropy'\n",
    "epochs = 10000\n",
    "patience = 30\n",
    "lr = 1e-3\n",
    "batch_size = 4096\n",
    "val_split = 0.2\n",
    "dropout = 0.5\n",
    "metrics = [tf.keras.metrics.CategoricalAccuracy()]\n",
    "\n",
    "input_shape = X.shape[1:]\n",
    "output_dim = len(np.unique(encoded_y_train))\n",
    "\n",
    "inputs = tf.keras.layers.Input(shape=input_shape)\n",
    "hidden = inputs \n",
    "\n",
    "for units in layers:\n",
    "    hidden = tf.keras.layers.Dense(units=units, activation='relu')(hidden)\n",
    "    hidden = tf.keras.layers.Dropout(dropout)(hidden)\n",
    "\n",
    "outputs = tf.keras.layers.Dense(units=output_dim, activation='softmax')(hidden)\n",
    "\n",
    "model = tf.keras.models.Model(inputs=inputs, outputs=outputs)\n",
    "\n",
    "model.compile(\n",
    "    loss=loss, optimizer=tf.keras.optimizers.Adam(learning_rate=lr),\n",
    "    metrics=metrics,\n",
    ")\n",
    "\n",
    "model_summary = []\n",
    "model.summary(print_fn=lambda x: model_summary.append(x))\n",
    "summary = \"\\n\".join(model_summary)\n",
    "print(summary)\n",
    "\n",
    "Y_train = np.zeros((len(encoded_y_train), output_dim))\n",
    "Y_train[np.arange(encoded_y_train.size), encoded_y_train] = 1\n",
    "\n",
    "bin_counts = np.sum(Y_train, 0)\n",
    "idx = np.arange(X_train.shape[0])\n",
    "idx_oversampled = []\n",
    "\n",
    "for i in range(output_dim):\n",
    "    idx_i = np.where(encoded_y_train == i)[0]\n",
    "    idx_oversampled.append(np.random.choice(idx_i, int(np.max(bin_counts))))\n",
    "\n",
    "idx_oversampled = np.hstack(idx_oversampled)\n",
    "\n",
    "np.random.shuffle(idx_oversampled)\n",
    "\n",
    "X_train_oversampled = scaled_X_train[idx_oversampled, :]\n",
    "print(f'Before: {scaled_X_train.shape}, after: {X_train_oversampled.shape}')\n",
    "\n",
    "Y_train_oversampled = Y_train[idx_oversampled, :]"
   ]
  },
  {
   "cell_type": "code",
   "execution_count": 61,
   "metadata": {},
   "outputs": [
    {
     "name": "stdout",
     "output_type": "stream",
     "text": [
      "Epoch 1/10000\n",
      "147/147 [==============================] - 4s 20ms/step - loss: 0.0581 - categorical_accuracy: 0.9843 - val_loss: 0.0050 - val_categorical_accuracy: 0.9989\n",
      "Epoch 2/10000\n",
      "147/147 [==============================] - 3s 19ms/step - loss: 0.0043 - categorical_accuracy: 0.9991 - val_loss: 0.0030 - val_categorical_accuracy: 0.9994\n",
      "Epoch 3/10000\n",
      "147/147 [==============================] - 3s 19ms/step - loss: 0.0028 - categorical_accuracy: 0.9995 - val_loss: 0.0025 - val_categorical_accuracy: 0.9996\n",
      "Epoch 4/10000\n",
      "147/147 [==============================] - 3s 19ms/step - loss: 0.0022 - categorical_accuracy: 0.9996 - val_loss: 0.0021 - val_categorical_accuracy: 0.9996\n",
      "Epoch 5/10000\n",
      "147/147 [==============================] - 3s 19ms/step - loss: 0.0020 - categorical_accuracy: 0.9997 - val_loss: 0.0026 - val_categorical_accuracy: 0.9996\n",
      "Epoch 6/10000\n",
      "147/147 [==============================] - 3s 19ms/step - loss: 0.0019 - categorical_accuracy: 0.9997 - val_loss: 0.0020 - val_categorical_accuracy: 0.9997\n",
      "Epoch 7/10000\n",
      "147/147 [==============================] - 3s 19ms/step - loss: 0.0016 - categorical_accuracy: 0.9997 - val_loss: 0.0031 - val_categorical_accuracy: 0.9995\n",
      "Epoch 8/10000\n",
      "147/147 [==============================] - 3s 19ms/step - loss: 0.0017 - categorical_accuracy: 0.9997 - val_loss: 0.0019 - val_categorical_accuracy: 0.9997\n",
      "Epoch 9/10000\n",
      "147/147 [==============================] - 3s 19ms/step - loss: 0.0015 - categorical_accuracy: 0.9998 - val_loss: 0.0017 - val_categorical_accuracy: 0.9997\n",
      "Epoch 10/10000\n",
      "147/147 [==============================] - 3s 19ms/step - loss: 0.0014 - categorical_accuracy: 0.9998 - val_loss: 0.0017 - val_categorical_accuracy: 0.9997\n",
      "Epoch 11/10000\n",
      "147/147 [==============================] - 3s 19ms/step - loss: 0.0014 - categorical_accuracy: 0.9998 - val_loss: 0.0027 - val_categorical_accuracy: 0.9995\n",
      "Epoch 12/10000\n",
      "147/147 [==============================] - 3s 19ms/step - loss: 0.0014 - categorical_accuracy: 0.9998 - val_loss: 0.0021 - val_categorical_accuracy: 0.9997\n",
      "Epoch 13/10000\n",
      "147/147 [==============================] - 3s 19ms/step - loss: 0.0014 - categorical_accuracy: 0.9998 - val_loss: 0.0015 - val_categorical_accuracy: 0.9997\n",
      "Epoch 14/10000\n",
      "147/147 [==============================] - 3s 19ms/step - loss: 0.0013 - categorical_accuracy: 0.9998 - val_loss: 0.0016 - val_categorical_accuracy: 0.9997\n",
      "Epoch 15/10000\n",
      "147/147 [==============================] - 3s 19ms/step - loss: 0.0013 - categorical_accuracy: 0.9998 - val_loss: 0.0016 - val_categorical_accuracy: 0.9997\n",
      "Epoch 16/10000\n",
      "147/147 [==============================] - 3s 19ms/step - loss: 0.0013 - categorical_accuracy: 0.9998 - val_loss: 0.0015 - val_categorical_accuracy: 0.9998\n",
      "Epoch 17/10000\n",
      "147/147 [==============================] - 3s 21ms/step - loss: 0.0015 - categorical_accuracy: 0.9997 - val_loss: 0.0018 - val_categorical_accuracy: 0.9996\n",
      "Epoch 18/10000\n",
      "147/147 [==============================] - 3s 20ms/step - loss: 0.0014 - categorical_accuracy: 0.9998 - val_loss: 0.0016 - val_categorical_accuracy: 0.9997\n",
      "Epoch 19/10000\n",
      "147/147 [==============================] - 3s 21ms/step - loss: 0.0015 - categorical_accuracy: 0.9997 - val_loss: 0.0017 - val_categorical_accuracy: 0.9997\n",
      "Epoch 20/10000\n",
      "147/147 [==============================] - 3s 19ms/step - loss: 0.0014 - categorical_accuracy: 0.9998 - val_loss: 0.0016 - val_categorical_accuracy: 0.9997\n",
      "Epoch 21/10000\n",
      "147/147 [==============================] - 3s 19ms/step - loss: 0.0013 - categorical_accuracy: 0.9998 - val_loss: 0.0016 - val_categorical_accuracy: 0.9997\n",
      "Epoch 22/10000\n",
      "147/147 [==============================] - 3s 20ms/step - loss: 0.0012 - categorical_accuracy: 0.9998 - val_loss: 0.0019 - val_categorical_accuracy: 0.9997\n",
      "Epoch 23/10000\n",
      "147/147 [==============================] - 3s 19ms/step - loss: 0.0012 - categorical_accuracy: 0.9998 - val_loss: 0.0012 - val_categorical_accuracy: 0.9998\n",
      "Epoch 24/10000\n",
      "147/147 [==============================] - 3s 19ms/step - loss: 0.0013 - categorical_accuracy: 0.9998 - val_loss: 0.0014 - val_categorical_accuracy: 0.9997\n",
      "Epoch 25/10000\n",
      "147/147 [==============================] - 3s 21ms/step - loss: 0.0012 - categorical_accuracy: 0.9998 - val_loss: 0.0017 - val_categorical_accuracy: 0.9997\n",
      "Epoch 26/10000\n",
      "147/147 [==============================] - 3s 19ms/step - loss: 0.0011 - categorical_accuracy: 0.9998 - val_loss: 0.0017 - val_categorical_accuracy: 0.9997\n",
      "Epoch 27/10000\n",
      "147/147 [==============================] - 3s 19ms/step - loss: 0.0010 - categorical_accuracy: 0.9998 - val_loss: 9.9995e-04 - val_categorical_accuracy: 0.9998\n",
      "Epoch 28/10000\n",
      "147/147 [==============================] - 3s 19ms/step - loss: 0.0012 - categorical_accuracy: 0.9998 - val_loss: 0.0013 - val_categorical_accuracy: 0.9997\n",
      "Epoch 29/10000\n",
      "147/147 [==============================] - 3s 19ms/step - loss: 0.0011 - categorical_accuracy: 0.9998 - val_loss: 0.0012 - val_categorical_accuracy: 0.9998\n",
      "Epoch 30/10000\n",
      "147/147 [==============================] - 3s 20ms/step - loss: 0.0011 - categorical_accuracy: 0.9998 - val_loss: 0.0018 - val_categorical_accuracy: 0.9997\n",
      "Epoch 31/10000\n",
      "147/147 [==============================] - 3s 19ms/step - loss: 9.9901e-04 - categorical_accuracy: 0.9998 - val_loss: 9.6482e-04 - val_categorical_accuracy: 0.9998\n",
      "Epoch 32/10000\n",
      "147/147 [==============================] - 3s 19ms/step - loss: 9.4518e-04 - categorical_accuracy: 0.9998 - val_loss: 8.7792e-04 - val_categorical_accuracy: 0.9998\n",
      "Epoch 33/10000\n",
      "147/147 [==============================] - 3s 20ms/step - loss: 0.0010 - categorical_accuracy: 0.9998 - val_loss: 0.0016 - val_categorical_accuracy: 0.9997\n",
      "Epoch 34/10000\n",
      "147/147 [==============================] - 3s 19ms/step - loss: 9.2374e-04 - categorical_accuracy: 0.9998 - val_loss: 0.0012 - val_categorical_accuracy: 0.9997\n",
      "Epoch 35/10000\n",
      "147/147 [==============================] - 3s 20ms/step - loss: 0.0011 - categorical_accuracy: 0.9998 - val_loss: 7.0358e-04 - val_categorical_accuracy: 0.9998\n",
      "Epoch 36/10000\n",
      "147/147 [==============================] - 3s 19ms/step - loss: 8.4980e-04 - categorical_accuracy: 0.9999 - val_loss: 0.0012 - val_categorical_accuracy: 0.9997\n",
      "Epoch 37/10000\n",
      "147/147 [==============================] - 3s 19ms/step - loss: 0.0010 - categorical_accuracy: 0.9998 - val_loss: 5.2899e-04 - val_categorical_accuracy: 0.9999\n",
      "Epoch 38/10000\n",
      "147/147 [==============================] - 3s 19ms/step - loss: 9.8941e-04 - categorical_accuracy: 0.9998 - val_loss: 8.9215e-04 - val_categorical_accuracy: 0.9998\n",
      "Epoch 39/10000\n",
      "147/147 [==============================] - 3s 21ms/step - loss: 8.9261e-04 - categorical_accuracy: 0.9998 - val_loss: 9.3976e-04 - val_categorical_accuracy: 0.9998\n",
      "Epoch 40/10000\n",
      "147/147 [==============================] - 3s 20ms/step - loss: 9.2384e-04 - categorical_accuracy: 0.9998 - val_loss: 0.0021 - val_categorical_accuracy: 0.9997\n",
      "Epoch 41/10000\n",
      "147/147 [==============================] - 3s 19ms/step - loss: 9.6295e-04 - categorical_accuracy: 0.9998 - val_loss: 9.9461e-04 - val_categorical_accuracy: 0.9998\n",
      "Epoch 42/10000\n",
      "147/147 [==============================] - 3s 21ms/step - loss: 9.9739e-04 - categorical_accuracy: 0.9998 - val_loss: 0.0017 - val_categorical_accuracy: 0.9997\n",
      "Epoch 43/10000\n",
      "147/147 [==============================] - 3s 20ms/step - loss: 9.5378e-04 - categorical_accuracy: 0.9998 - val_loss: 4.2923e-04 - val_categorical_accuracy: 0.9999\n",
      "Epoch 44/10000\n",
      "147/147 [==============================] - 3s 19ms/step - loss: 7.4867e-04 - categorical_accuracy: 0.9999 - val_loss: 7.1647e-04 - val_categorical_accuracy: 0.9998\n",
      "Epoch 45/10000\n",
      "147/147 [==============================] - 3s 21ms/step - loss: 6.9003e-04 - categorical_accuracy: 0.9999 - val_loss: 5.9592e-04 - val_categorical_accuracy: 0.9998\n",
      "Epoch 46/10000\n",
      "147/147 [==============================] - 3s 20ms/step - loss: 7.2918e-04 - categorical_accuracy: 0.9999 - val_loss: 5.4474e-04 - val_categorical_accuracy: 0.9999\n",
      "Epoch 47/10000\n",
      "147/147 [==============================] - 3s 20ms/step - loss: 6.4802e-04 - categorical_accuracy: 0.9999 - val_loss: 4.0347e-04 - val_categorical_accuracy: 0.9999\n",
      "Epoch 48/10000\n"
     ]
    },
    {
     "name": "stdout",
     "output_type": "stream",
     "text": [
      "147/147 [==============================] - 3s 19ms/step - loss: 6.4296e-04 - categorical_accuracy: 0.9999 - val_loss: 5.6177e-04 - val_categorical_accuracy: 0.9998\n",
      "Epoch 49/10000\n",
      "147/147 [==============================] - 3s 20ms/step - loss: 6.8188e-04 - categorical_accuracy: 0.9999 - val_loss: 6.4411e-04 - val_categorical_accuracy: 0.9998\n",
      "Epoch 50/10000\n",
      "147/147 [==============================] - 3s 19ms/step - loss: 6.3916e-04 - categorical_accuracy: 0.9999 - val_loss: 4.0114e-04 - val_categorical_accuracy: 0.9999\n",
      "Epoch 51/10000\n",
      "147/147 [==============================] - 3s 20ms/step - loss: 6.7008e-04 - categorical_accuracy: 0.9999 - val_loss: 3.9948e-04 - val_categorical_accuracy: 0.9999\n",
      "Epoch 52/10000\n",
      "147/147 [==============================] - 3s 19ms/step - loss: 6.2807e-04 - categorical_accuracy: 0.9999 - val_loss: 4.8734e-04 - val_categorical_accuracy: 0.9999\n",
      "Epoch 53/10000\n",
      "147/147 [==============================] - 3s 20ms/step - loss: 6.3312e-04 - categorical_accuracy: 0.9999 - val_loss: 2.7688e-04 - val_categorical_accuracy: 1.0000\n",
      "Epoch 54/10000\n",
      "147/147 [==============================] - 3s 19ms/step - loss: 7.8331e-04 - categorical_accuracy: 0.9998 - val_loss: 3.7139e-04 - val_categorical_accuracy: 0.9999\n",
      "Epoch 55/10000\n",
      "147/147 [==============================] - 3s 20ms/step - loss: 8.1075e-04 - categorical_accuracy: 0.9998 - val_loss: 5.9412e-04 - val_categorical_accuracy: 0.9998\n",
      "Epoch 56/10000\n",
      "147/147 [==============================] - 3s 20ms/step - loss: 6.1512e-04 - categorical_accuracy: 0.9999 - val_loss: 2.9557e-04 - val_categorical_accuracy: 0.9999\n",
      "Epoch 57/10000\n",
      "147/147 [==============================] - 3s 21ms/step - loss: 5.4867e-04 - categorical_accuracy: 0.9999 - val_loss: 4.1542e-04 - val_categorical_accuracy: 0.9999\n",
      "Epoch 58/10000\n",
      "147/147 [==============================] - 3s 20ms/step - loss: 9.0661e-04 - categorical_accuracy: 0.9998 - val_loss: 6.5941e-04 - val_categorical_accuracy: 0.9998\n",
      "Epoch 59/10000\n",
      "147/147 [==============================] - 3s 20ms/step - loss: 7.0128e-04 - categorical_accuracy: 0.9998 - val_loss: 3.8086e-04 - val_categorical_accuracy: 0.9999\n",
      "Epoch 60/10000\n",
      "147/147 [==============================] - 3s 20ms/step - loss: 6.5325e-04 - categorical_accuracy: 0.9999 - val_loss: 2.9571e-04 - val_categorical_accuracy: 0.9999\n",
      "Epoch 61/10000\n",
      "147/147 [==============================] - 3s 19ms/step - loss: 6.3809e-04 - categorical_accuracy: 0.9999 - val_loss: 3.7923e-04 - val_categorical_accuracy: 0.9999\n",
      "Epoch 62/10000\n",
      "147/147 [==============================] - 3s 20ms/step - loss: 8.1465e-04 - categorical_accuracy: 0.9998 - val_loss: 4.5235e-04 - val_categorical_accuracy: 0.9999\n",
      "Epoch 63/10000\n",
      "147/147 [==============================] - 3s 20ms/step - loss: 6.5680e-04 - categorical_accuracy: 0.9999 - val_loss: 5.2307e-04 - val_categorical_accuracy: 0.9999\n",
      "Epoch 64/10000\n",
      "147/147 [==============================] - 3s 20ms/step - loss: 7.2091e-04 - categorical_accuracy: 0.9999 - val_loss: 3.4600e-04 - val_categorical_accuracy: 0.9999\n",
      "Epoch 65/10000\n",
      "147/147 [==============================] - 3s 20ms/step - loss: 5.4528e-04 - categorical_accuracy: 0.9999 - val_loss: 2.8781e-04 - val_categorical_accuracy: 0.9999\n",
      "Epoch 66/10000\n",
      "147/147 [==============================] - 3s 20ms/step - loss: 5.0130e-04 - categorical_accuracy: 0.9999 - val_loss: 1.5836e-04 - val_categorical_accuracy: 1.0000\n",
      "Epoch 67/10000\n",
      "147/147 [==============================] - 3s 19ms/step - loss: 3.8208e-04 - categorical_accuracy: 0.9999 - val_loss: 2.1862e-04 - val_categorical_accuracy: 0.9999\n",
      "Epoch 68/10000\n",
      "147/147 [==============================] - 3s 20ms/step - loss: 5.2483e-04 - categorical_accuracy: 0.9999 - val_loss: 3.3969e-04 - val_categorical_accuracy: 0.9999\n",
      "Epoch 69/10000\n",
      "147/147 [==============================] - 3s 20ms/step - loss: 5.7538e-04 - categorical_accuracy: 0.9999 - val_loss: 2.5456e-04 - val_categorical_accuracy: 0.9999\n",
      "Epoch 70/10000\n",
      "147/147 [==============================] - 3s 19ms/step - loss: 5.2221e-04 - categorical_accuracy: 0.9999 - val_loss: 4.0533e-04 - val_categorical_accuracy: 0.9999\n",
      "Epoch 71/10000\n",
      "147/147 [==============================] - 3s 20ms/step - loss: 6.1230e-04 - categorical_accuracy: 0.9999 - val_loss: 2.6479e-04 - val_categorical_accuracy: 0.9999\n",
      "Epoch 72/10000\n",
      "147/147 [==============================] - 3s 20ms/step - loss: 5.8188e-04 - categorical_accuracy: 0.9999 - val_loss: 1.7409e-04 - val_categorical_accuracy: 1.0000\n",
      "Epoch 73/10000\n",
      "147/147 [==============================] - 3s 19ms/step - loss: 5.5836e-04 - categorical_accuracy: 0.9999 - val_loss: 5.0124e-04 - val_categorical_accuracy: 0.9999\n",
      "Epoch 74/10000\n",
      "147/147 [==============================] - 3s 20ms/step - loss: 5.2184e-04 - categorical_accuracy: 0.9999 - val_loss: 5.1125e-04 - val_categorical_accuracy: 0.9999\n",
      "Epoch 75/10000\n",
      "147/147 [==============================] - 3s 20ms/step - loss: 5.2769e-04 - categorical_accuracy: 0.9999 - val_loss: 1.9400e-04 - val_categorical_accuracy: 1.0000\n",
      "Epoch 76/10000\n",
      "147/147 [==============================] - 3s 19ms/step - loss: 4.6960e-04 - categorical_accuracy: 0.9999 - val_loss: 1.7167e-04 - val_categorical_accuracy: 0.9999\n",
      "Epoch 77/10000\n",
      "147/147 [==============================] - 3s 21ms/step - loss: 5.9966e-04 - categorical_accuracy: 0.9999 - val_loss: 2.0384e-04 - val_categorical_accuracy: 1.0000\n",
      "Epoch 78/10000\n",
      "147/147 [==============================] - 3s 19ms/step - loss: 6.0680e-04 - categorical_accuracy: 0.9999 - val_loss: 1.6540e-04 - val_categorical_accuracy: 1.0000\n",
      "Epoch 79/10000\n",
      "147/147 [==============================] - 3s 20ms/step - loss: 4.9669e-04 - categorical_accuracy: 0.9999 - val_loss: 2.5480e-04 - val_categorical_accuracy: 0.9999\n",
      "Epoch 80/10000\n",
      "147/147 [==============================] - 3s 20ms/step - loss: 4.4773e-04 - categorical_accuracy: 0.9999 - val_loss: 2.7291e-04 - val_categorical_accuracy: 0.9999\n",
      "Epoch 81/10000\n",
      "147/147 [==============================] - 3s 23ms/step - loss: 4.4100e-04 - categorical_accuracy: 0.9999 - val_loss: 1.2038e-04 - val_categorical_accuracy: 1.0000\n",
      "Epoch 82/10000\n",
      "147/147 [==============================] - 3s 20ms/step - loss: 4.3166e-04 - categorical_accuracy: 0.9999 - val_loss: 3.0587e-04 - val_categorical_accuracy: 0.9999\n",
      "Epoch 83/10000\n",
      "147/147 [==============================] - 3s 20ms/step - loss: 5.7187e-04 - categorical_accuracy: 0.9999 - val_loss: 2.4170e-04 - val_categorical_accuracy: 1.0000\n",
      "Epoch 84/10000\n",
      "147/147 [==============================] - 3s 20ms/step - loss: 5.1304e-04 - categorical_accuracy: 0.9999 - val_loss: 1.9599e-04 - val_categorical_accuracy: 1.0000\n",
      "Epoch 85/10000\n",
      "147/147 [==============================] - 3s 20ms/step - loss: 4.5067e-04 - categorical_accuracy: 0.9999 - val_loss: 9.5333e-05 - val_categorical_accuracy: 1.0000\n",
      "Epoch 86/10000\n",
      "147/147 [==============================] - 3s 20ms/step - loss: 3.7201e-04 - categorical_accuracy: 0.9999 - val_loss: 2.6195e-04 - val_categorical_accuracy: 0.9999\n",
      "Epoch 87/10000\n",
      "147/147 [==============================] - 3s 19ms/step - loss: 4.7089e-04 - categorical_accuracy: 0.9999 - val_loss: 7.6888e-05 - val_categorical_accuracy: 1.0000\n",
      "Epoch 88/10000\n",
      "147/147 [==============================] - 3s 19ms/step - loss: 3.8230e-04 - categorical_accuracy: 0.9999 - val_loss: 1.3380e-04 - val_categorical_accuracy: 0.9999\n",
      "Epoch 89/10000\n",
      "147/147 [==============================] - 3s 20ms/step - loss: 3.1264e-04 - categorical_accuracy: 0.9999 - val_loss: 1.8937e-04 - val_categorical_accuracy: 0.9999\n",
      "Epoch 90/10000\n",
      "147/147 [==============================] - 3s 21ms/step - loss: 3.7159e-04 - categorical_accuracy: 0.9999 - val_loss: 1.6344e-04 - val_categorical_accuracy: 1.0000\n",
      "Epoch 91/10000\n",
      "147/147 [==============================] - 3s 20ms/step - loss: 4.2372e-04 - categorical_accuracy: 0.9999 - val_loss: 1.1347e-04 - val_categorical_accuracy: 1.0000\n",
      "Epoch 92/10000\n",
      "147/147 [==============================] - 3s 20ms/step - loss: 5.5271e-04 - categorical_accuracy: 0.9999 - val_loss: 1.2481e-04 - val_categorical_accuracy: 1.0000\n",
      "Epoch 93/10000\n",
      "147/147 [==============================] - 3s 20ms/step - loss: 5.4567e-04 - categorical_accuracy: 0.9999 - val_loss: 2.0530e-04 - val_categorical_accuracy: 1.0000\n"
     ]
    },
    {
     "name": "stdout",
     "output_type": "stream",
     "text": [
      "Epoch 94/10000\n",
      "147/147 [==============================] - 3s 20ms/step - loss: 4.8385e-04 - categorical_accuracy: 0.9999 - val_loss: 2.0345e-04 - val_categorical_accuracy: 0.9999\n",
      "Epoch 95/10000\n",
      "147/147 [==============================] - 3s 20ms/step - loss: 3.6182e-04 - categorical_accuracy: 0.9999 - val_loss: 1.0265e-04 - val_categorical_accuracy: 1.0000\n",
      "Epoch 96/10000\n",
      "147/147 [==============================] - 3s 20ms/step - loss: 4.6757e-04 - categorical_accuracy: 0.9999 - val_loss: 1.6624e-04 - val_categorical_accuracy: 1.0000\n",
      "Epoch 97/10000\n",
      "147/147 [==============================] - 3s 20ms/step - loss: 4.4803e-04 - categorical_accuracy: 0.9999 - val_loss: 2.4770e-04 - val_categorical_accuracy: 1.0000\n",
      "Epoch 98/10000\n",
      "147/147 [==============================] - 3s 20ms/step - loss: 5.5070e-04 - categorical_accuracy: 0.9999 - val_loss: 1.5154e-04 - val_categorical_accuracy: 1.0000\n",
      "Epoch 99/10000\n",
      "147/147 [==============================] - 3s 20ms/step - loss: 2.7641e-04 - categorical_accuracy: 0.9999 - val_loss: 1.6779e-04 - val_categorical_accuracy: 1.0000\n",
      "Epoch 100/10000\n",
      "147/147 [==============================] - 3s 20ms/step - loss: 3.7149e-04 - categorical_accuracy: 0.9999 - val_loss: 2.4709e-04 - val_categorical_accuracy: 0.9999\n",
      "Epoch 101/10000\n",
      "147/147 [==============================] - 3s 21ms/step - loss: 4.9157e-04 - categorical_accuracy: 0.9999 - val_loss: 5.8964e-05 - val_categorical_accuracy: 1.0000\n",
      "Epoch 102/10000\n",
      "147/147 [==============================] - 3s 20ms/step - loss: 3.5629e-04 - categorical_accuracy: 0.9999 - val_loss: 1.1051e-04 - val_categorical_accuracy: 1.0000\n",
      "Epoch 103/10000\n",
      "147/147 [==============================] - 3s 20ms/step - loss: 3.7183e-04 - categorical_accuracy: 0.9999 - val_loss: 1.8123e-04 - val_categorical_accuracy: 1.0000\n",
      "Epoch 104/10000\n",
      "147/147 [==============================] - 3s 20ms/step - loss: 4.7174e-04 - categorical_accuracy: 0.9999 - val_loss: 5.5211e-05 - val_categorical_accuracy: 1.0000\n",
      "Epoch 105/10000\n",
      "147/147 [==============================] - 3s 20ms/step - loss: 3.5231e-04 - categorical_accuracy: 0.9999 - val_loss: 6.0313e-05 - val_categorical_accuracy: 1.0000\n",
      "Epoch 106/10000\n",
      "147/147 [==============================] - 3s 20ms/step - loss: 3.3001e-04 - categorical_accuracy: 0.9999 - val_loss: 1.8030e-04 - val_categorical_accuracy: 1.0000\n",
      "Epoch 107/10000\n",
      "147/147 [==============================] - 3s 20ms/step - loss: 3.9028e-04 - categorical_accuracy: 0.9999 - val_loss: 7.7089e-05 - val_categorical_accuracy: 1.0000\n",
      "Epoch 108/10000\n",
      "147/147 [==============================] - 3s 20ms/step - loss: 2.7651e-04 - categorical_accuracy: 0.9999 - val_loss: 4.9220e-05 - val_categorical_accuracy: 1.0000\n",
      "Epoch 109/10000\n",
      "147/147 [==============================] - 3s 19ms/step - loss: 3.2306e-04 - categorical_accuracy: 0.9999 - val_loss: 5.7246e-05 - val_categorical_accuracy: 1.0000\n",
      "Epoch 110/10000\n",
      "147/147 [==============================] - 3s 20ms/step - loss: 4.4015e-04 - categorical_accuracy: 0.9999 - val_loss: 1.0890e-04 - val_categorical_accuracy: 1.0000\n",
      "Epoch 111/10000\n",
      "147/147 [==============================] - 3s 20ms/step - loss: 4.1618e-04 - categorical_accuracy: 0.9999 - val_loss: 1.8867e-04 - val_categorical_accuracy: 1.0000\n",
      "Epoch 112/10000\n",
      "147/147 [==============================] - 3s 20ms/step - loss: 4.9160e-04 - categorical_accuracy: 0.9999 - val_loss: 1.8656e-04 - val_categorical_accuracy: 1.0000\n",
      "Epoch 113/10000\n",
      "147/147 [==============================] - 3s 19ms/step - loss: 3.8666e-04 - categorical_accuracy: 0.9999 - val_loss: 2.8922e-04 - val_categorical_accuracy: 1.0000\n",
      "Epoch 114/10000\n",
      "147/147 [==============================] - 3s 20ms/step - loss: 6.1833e-04 - categorical_accuracy: 0.9999 - val_loss: 2.5741e-04 - val_categorical_accuracy: 0.9999\n",
      "Epoch 115/10000\n",
      "147/147 [==============================] - 3s 20ms/step - loss: 4.0107e-04 - categorical_accuracy: 0.9999 - val_loss: 5.2219e-05 - val_categorical_accuracy: 1.0000\n",
      "Epoch 116/10000\n",
      "147/147 [==============================] - 3s 20ms/step - loss: 2.0322e-04 - categorical_accuracy: 1.0000 - val_loss: 1.0224e-04 - val_categorical_accuracy: 1.0000\n",
      "Epoch 117/10000\n",
      "147/147 [==============================] - 3s 20ms/step - loss: 2.7831e-04 - categorical_accuracy: 0.9999 - val_loss: 4.1871e-05 - val_categorical_accuracy: 1.0000\n",
      "Epoch 118/10000\n",
      "147/147 [==============================] - 3s 20ms/step - loss: 2.9498e-04 - categorical_accuracy: 0.9999 - val_loss: 6.0753e-05 - val_categorical_accuracy: 1.0000\n",
      "Epoch 119/10000\n",
      "147/147 [==============================] - 3s 20ms/step - loss: 2.6213e-04 - categorical_accuracy: 0.9999 - val_loss: 1.1998e-04 - val_categorical_accuracy: 1.0000\n",
      "Epoch 120/10000\n",
      "147/147 [==============================] - 3s 21ms/step - loss: 4.8357e-04 - categorical_accuracy: 0.9999 - val_loss: 9.6060e-05 - val_categorical_accuracy: 1.0000\n",
      "Epoch 121/10000\n",
      "147/147 [==============================] - 3s 21ms/step - loss: 4.5294e-04 - categorical_accuracy: 0.9999 - val_loss: 6.7319e-05 - val_categorical_accuracy: 1.0000\n",
      "Epoch 122/10000\n",
      "147/147 [==============================] - 3s 19ms/step - loss: 2.5269e-04 - categorical_accuracy: 1.0000 - val_loss: 7.5683e-05 - val_categorical_accuracy: 1.0000\n",
      "Epoch 123/10000\n",
      "147/147 [==============================] - 3s 20ms/step - loss: 3.3363e-04 - categorical_accuracy: 0.9999 - val_loss: 5.2100e-05 - val_categorical_accuracy: 1.0000\n",
      "Epoch 124/10000\n",
      "147/147 [==============================] - 3s 20ms/step - loss: 3.0016e-04 - categorical_accuracy: 0.9999 - val_loss: 4.2305e-05 - val_categorical_accuracy: 1.0000\n",
      "Epoch 125/10000\n",
      "147/147 [==============================] - 3s 20ms/step - loss: 5.1050e-04 - categorical_accuracy: 0.9999 - val_loss: 2.4164e-04 - val_categorical_accuracy: 0.9999\n",
      "Epoch 126/10000\n",
      "147/147 [==============================] - 3s 20ms/step - loss: 3.8978e-04 - categorical_accuracy: 0.9999 - val_loss: 1.0125e-04 - val_categorical_accuracy: 1.0000\n",
      "Epoch 127/10000\n",
      "147/147 [==============================] - 3s 20ms/step - loss: 4.5255e-04 - categorical_accuracy: 0.9999 - val_loss: 7.4306e-05 - val_categorical_accuracy: 1.0000\n",
      "Epoch 128/10000\n",
      "147/147 [==============================] - 3s 20ms/step - loss: 3.3162e-04 - categorical_accuracy: 0.9999 - val_loss: 7.7586e-05 - val_categorical_accuracy: 1.0000\n",
      "Epoch 129/10000\n",
      "147/147 [==============================] - 3s 20ms/step - loss: 4.1112e-04 - categorical_accuracy: 0.9999 - val_loss: 1.0054e-04 - val_categorical_accuracy: 1.0000\n",
      "Epoch 130/10000\n",
      "147/147 [==============================] - 3s 20ms/step - loss: 4.3098e-04 - categorical_accuracy: 0.9999 - val_loss: 1.1153e-04 - val_categorical_accuracy: 1.0000\n",
      "Epoch 131/10000\n",
      "147/147 [==============================] - 3s 20ms/step - loss: 2.8116e-04 - categorical_accuracy: 0.9999 - val_loss: 4.1499e-05 - val_categorical_accuracy: 1.0000\n",
      "Epoch 132/10000\n",
      "147/147 [==============================] - 3s 20ms/step - loss: 1.8616e-04 - categorical_accuracy: 1.0000 - val_loss: 8.2981e-05 - val_categorical_accuracy: 1.0000\n",
      "Epoch 133/10000\n",
      "147/147 [==============================] - 3s 20ms/step - loss: 2.8519e-04 - categorical_accuracy: 0.9999 - val_loss: 1.5946e-04 - val_categorical_accuracy: 1.0000\n",
      "Epoch 134/10000\n",
      "147/147 [==============================] - 3s 20ms/step - loss: 4.7353e-04 - categorical_accuracy: 0.9999 - val_loss: 1.6221e-04 - val_categorical_accuracy: 1.0000\n",
      "Epoch 135/10000\n",
      "147/147 [==============================] - 3s 20ms/step - loss: 6.2630e-04 - categorical_accuracy: 0.9999 - val_loss: 2.0887e-04 - val_categorical_accuracy: 1.0000\n",
      "Epoch 136/10000\n",
      "147/147 [==============================] - 3s 20ms/step - loss: 3.6594e-04 - categorical_accuracy: 0.9999 - val_loss: 6.4130e-05 - val_categorical_accuracy: 1.0000\n",
      "Epoch 137/10000\n",
      "147/147 [==============================] - 3s 20ms/step - loss: 3.6972e-04 - categorical_accuracy: 0.9999 - val_loss: 1.4661e-04 - val_categorical_accuracy: 1.0000\n",
      "Epoch 138/10000\n",
      "147/147 [==============================] - 3s 20ms/step - loss: 2.1793e-04 - categorical_accuracy: 0.9999 - val_loss: 7.3590e-05 - val_categorical_accuracy: 1.0000\n",
      "Epoch 139/10000\n"
     ]
    },
    {
     "name": "stdout",
     "output_type": "stream",
     "text": [
      "147/147 [==============================] - 3s 21ms/step - loss: 3.2281e-04 - categorical_accuracy: 0.9999 - val_loss: 9.6747e-05 - val_categorical_accuracy: 1.0000\n",
      "Epoch 140/10000\n",
      "147/147 [==============================] - 3s 21ms/step - loss: 2.7409e-04 - categorical_accuracy: 0.9999 - val_loss: 2.4139e-05 - val_categorical_accuracy: 1.0000\n",
      "Epoch 141/10000\n",
      "147/147 [==============================] - 3s 20ms/step - loss: 3.3574e-04 - categorical_accuracy: 0.9999 - val_loss: 5.7645e-05 - val_categorical_accuracy: 1.0000\n",
      "Epoch 142/10000\n",
      "147/147 [==============================] - 3s 21ms/step - loss: 2.1135e-04 - categorical_accuracy: 1.0000 - val_loss: 1.6043e-05 - val_categorical_accuracy: 1.0000\n",
      "Epoch 143/10000\n",
      "147/147 [==============================] - 3s 20ms/step - loss: 1.9638e-04 - categorical_accuracy: 1.0000 - val_loss: 7.3910e-05 - val_categorical_accuracy: 1.0000\n",
      "Epoch 144/10000\n",
      "147/147 [==============================] - 3s 21ms/step - loss: 4.0811e-04 - categorical_accuracy: 0.9999 - val_loss: 9.0692e-05 - val_categorical_accuracy: 1.0000\n",
      "Epoch 145/10000\n",
      "147/147 [==============================] - 3s 20ms/step - loss: 2.6829e-04 - categorical_accuracy: 0.9999 - val_loss: 6.3262e-05 - val_categorical_accuracy: 1.0000\n",
      "Epoch 146/10000\n",
      "147/147 [==============================] - 3s 20ms/step - loss: 4.2535e-04 - categorical_accuracy: 0.9999 - val_loss: 5.3563e-05 - val_categorical_accuracy: 1.0000\n",
      "Epoch 147/10000\n",
      "147/147 [==============================] - 3s 20ms/step - loss: 3.9067e-04 - categorical_accuracy: 0.9999 - val_loss: 1.1068e-04 - val_categorical_accuracy: 1.0000\n",
      "Epoch 148/10000\n",
      "147/147 [==============================] - 3s 20ms/step - loss: 3.7558e-04 - categorical_accuracy: 0.9999 - val_loss: 9.3889e-05 - val_categorical_accuracy: 1.0000\n",
      "Epoch 149/10000\n",
      "147/147 [==============================] - 3s 20ms/step - loss: 4.0989e-04 - categorical_accuracy: 0.9999 - val_loss: 6.9447e-05 - val_categorical_accuracy: 1.0000\n",
      "Epoch 150/10000\n",
      "147/147 [==============================] - 3s 20ms/step - loss: 2.3170e-04 - categorical_accuracy: 1.0000 - val_loss: 7.0064e-05 - val_categorical_accuracy: 1.0000\n",
      "Epoch 151/10000\n",
      "147/147 [==============================] - 3s 20ms/step - loss: 3.8866e-04 - categorical_accuracy: 0.9999 - val_loss: 5.3806e-05 - val_categorical_accuracy: 1.0000\n",
      "Epoch 152/10000\n",
      "147/147 [==============================] - 3s 20ms/step - loss: 4.3970e-04 - categorical_accuracy: 0.9999 - val_loss: 1.3056e-04 - val_categorical_accuracy: 1.0000\n",
      "Epoch 153/10000\n",
      "147/147 [==============================] - 3s 20ms/step - loss: 3.1358e-04 - categorical_accuracy: 0.9999 - val_loss: 7.6889e-05 - val_categorical_accuracy: 1.0000\n",
      "Epoch 154/10000\n",
      "147/147 [==============================] - 3s 21ms/step - loss: 3.4856e-04 - categorical_accuracy: 0.9999 - val_loss: 1.0025e-04 - val_categorical_accuracy: 1.0000\n",
      "Epoch 155/10000\n",
      "147/147 [==============================] - 3s 22ms/step - loss: 2.8798e-04 - categorical_accuracy: 0.9999 - val_loss: 5.0404e-05 - val_categorical_accuracy: 1.0000\n",
      "Epoch 156/10000\n",
      "147/147 [==============================] - 3s 20ms/step - loss: 2.1179e-04 - categorical_accuracy: 1.0000 - val_loss: 7.5314e-05 - val_categorical_accuracy: 1.0000\n",
      "Epoch 157/10000\n",
      "147/147 [==============================] - 3s 20ms/step - loss: 3.4392e-04 - categorical_accuracy: 0.9999 - val_loss: 5.0949e-05 - val_categorical_accuracy: 1.0000\n",
      "Epoch 158/10000\n",
      "147/147 [==============================] - 3s 21ms/step - loss: 3.3646e-04 - categorical_accuracy: 0.9999 - val_loss: 8.3765e-05 - val_categorical_accuracy: 1.0000\n",
      "Epoch 159/10000\n",
      "147/147 [==============================] - 3s 20ms/step - loss: 3.8129e-04 - categorical_accuracy: 0.9999 - val_loss: 5.6131e-05 - val_categorical_accuracy: 1.0000\n",
      "Epoch 160/10000\n",
      "147/147 [==============================] - 3s 20ms/step - loss: 2.8296e-04 - categorical_accuracy: 0.9999 - val_loss: 2.1942e-05 - val_categorical_accuracy: 1.0000\n",
      "Epoch 161/10000\n",
      "147/147 [==============================] - 3s 20ms/step - loss: 3.2201e-04 - categorical_accuracy: 0.9999 - val_loss: 7.9023e-05 - val_categorical_accuracy: 1.0000\n",
      "Epoch 162/10000\n",
      "147/147 [==============================] - 3s 20ms/step - loss: 1.9273e-04 - categorical_accuracy: 1.0000 - val_loss: 1.8545e-05 - val_categorical_accuracy: 1.0000\n",
      "Epoch 163/10000\n",
      "147/147 [==============================] - 3s 20ms/step - loss: 2.2201e-04 - categorical_accuracy: 1.0000 - val_loss: 9.2697e-05 - val_categorical_accuracy: 1.0000\n",
      "Epoch 164/10000\n",
      "147/147 [==============================] - 3s 20ms/step - loss: 2.8761e-04 - categorical_accuracy: 0.9999 - val_loss: 3.5080e-05 - val_categorical_accuracy: 1.0000\n",
      "Epoch 165/10000\n",
      "147/147 [==============================] - 3s 20ms/step - loss: 3.6548e-04 - categorical_accuracy: 0.9999 - val_loss: 2.7145e-05 - val_categorical_accuracy: 1.0000\n",
      "Epoch 166/10000\n",
      "147/147 [==============================] - 3s 20ms/step - loss: 3.1285e-04 - categorical_accuracy: 0.9999 - val_loss: 6.2170e-05 - val_categorical_accuracy: 1.0000\n",
      "Epoch 167/10000\n",
      "147/147 [==============================] - 3s 21ms/step - loss: 2.6690e-04 - categorical_accuracy: 1.0000 - val_loss: 6.4977e-05 - val_categorical_accuracy: 1.0000\n",
      "Epoch 168/10000\n",
      "147/147 [==============================] - 3s 20ms/step - loss: 2.3525e-04 - categorical_accuracy: 1.0000 - val_loss: 2.5575e-05 - val_categorical_accuracy: 1.0000\n",
      "Epoch 169/10000\n",
      "147/147 [==============================] - 3s 20ms/step - loss: 2.1053e-04 - categorical_accuracy: 1.0000 - val_loss: 3.8188e-05 - val_categorical_accuracy: 1.0000\n",
      "Epoch 170/10000\n",
      "147/147 [==============================] - 3s 21ms/step - loss: 1.9232e-04 - categorical_accuracy: 1.0000 - val_loss: 8.5620e-05 - val_categorical_accuracy: 1.0000\n",
      "Epoch 171/10000\n",
      "147/147 [==============================] - 3s 20ms/step - loss: 4.3333e-04 - categorical_accuracy: 0.9999 - val_loss: 8.3782e-05 - val_categorical_accuracy: 1.0000\n",
      "Epoch 172/10000\n",
      "147/147 [==============================] - 3s 20ms/step - loss: 3.4529e-04 - categorical_accuracy: 0.9999 - val_loss: 3.7098e-05 - val_categorical_accuracy: 1.0000\n"
     ]
    },
    {
     "data": {
      "text/plain": [
       "<keras.callbacks.History at 0x7f37f4026790>"
      ]
     },
     "execution_count": 61,
     "metadata": {},
     "output_type": "execute_result"
    }
   ],
   "source": [
    "model.fit(\n",
    "    X_train_oversampled, Y_train_oversampled,\n",
    "    validation_split=val_split,\n",
    "    epochs=epochs,\n",
    "    batch_size=batch_size,\n",
    "    shuffle=True,\n",
    "    callbacks=[\n",
    "        tf.keras.callbacks.EarlyStopping(monitor='val_loss', patience=patience, mode='min', restore_best_weights=True)\n",
    "    ],\n",
    "    verbose=True\n",
    ")"
   ]
  },
  {
   "cell_type": "code",
   "execution_count": 62,
   "metadata": {},
   "outputs": [
    {
     "name": "stdout",
     "output_type": "stream",
     "text": [
      "16/16 [==============================] - 0s 5ms/step\n"
     ]
    }
   ],
   "source": [
    "P_test = model.predict(scaled_X_test, batch_size=batch_size)\n",
    "NN_y_pred = np.argmax(P_test, 1)"
   ]
  },
  {
   "cell_type": "code",
   "execution_count": 63,
   "metadata": {},
   "outputs": [
    {
     "data": {
      "image/png": "[encoded data removed]",
      "text/plain": [
       "<Figure size 648x288 with 2 Axes>"
      ]
     },
     "metadata": {},
     "output_type": "display_data"
    }
   ],
   "source": [
    "cr_NN_case1 = classification_report_heatmap(encoded_y_test, NN_y_pred, 'Neural network')"
   ]
  },
  {
   "cell_type": "code",
   "execution_count": 64,
   "metadata": {},
   "outputs": [
    {
     "data": {
      "image/png": "[encoded data removed]",
      "text/plain": [
       "<Figure size 432x432 with 2 Axes>"
      ]
     },
     "metadata": {},
     "output_type": "display_data"
    }
   ],
   "source": [
    "confusion_matrix_display(y_pred=NN_y_pred, y_test=encoded_y_test, model_name='Neural network')"
   ]
  },
  {
   "cell_type": "markdown",
   "metadata": {},
   "source": [
    "##  ML models comparison"
   ]
  },
  {
   "cell_type": "markdown",
   "metadata": {},
   "source": [
    "#### Precision scores"
   ]
  },
  {
   "cell_type": "code",
   "execution_count": 65,
   "metadata": {
    "tags": []
   },
   "outputs": [
    {
     "ename": "ImportError",
     "evalue": "Pandas requires version '3.0.0' or newer of 'jinja2' (version '2.11.2' currently installed).",
     "output_type": "error",
     "traceback": [
      "\u001b[0;31m---------------------------------------------------------------------------\u001b[0m",
      "\u001b[0;31mImportError\u001b[0m                               Traceback (most recent call last)",
      "\u001b[0;32m<ipython-input-65-7c67d5ea6b2c>\u001b[0m in \u001b[0;36m<module>\u001b[0;34m\u001b[0m\n\u001b[1;32m      4\u001b[0m \u001b[0;34m\u001b[0m\u001b[0m\n\u001b[1;32m      5\u001b[0m \u001b[0mfailure_precision_score\u001b[0m \u001b[0;34m=\u001b[0m \u001b[0mcomp_failure_scores\u001b[0m\u001b[0;34m(\u001b[0m\u001b[0mmodels\u001b[0m\u001b[0;34m,\u001b[0m \u001b[0mcrs\u001b[0m\u001b[0;34m,\u001b[0m \u001b[0mmetric\u001b[0m\u001b[0;34m=\u001b[0m\u001b[0;34m\"precision\"\u001b[0m\u001b[0;34m)\u001b[0m\u001b[0;34m\u001b[0m\u001b[0;34m\u001b[0m\u001b[0m\n\u001b[0;32m----> 6\u001b[0;31m \u001b[0mfailure_precision_score\u001b[0m\u001b[0;34m.\u001b[0m\u001b[0mstyle\u001b[0m\u001b[0;34m.\u001b[0m\u001b[0mbackground_gradient\u001b[0m\u001b[0;34m(\u001b[0m\u001b[0mcmap\u001b[0m\u001b[0;34m=\u001b[0m\u001b[0;34m'YlOrRd'\u001b[0m\u001b[0;34m)\u001b[0m\u001b[0;34m.\u001b[0m\u001b[0mhide_index\u001b[0m\u001b[0;34m(\u001b[0m\u001b[0;34m)\u001b[0m\u001b[0;34m\u001b[0m\u001b[0;34m\u001b[0m\u001b[0m\n\u001b[0m",
      "\u001b[0;32m~/anaconda3/lib/python3.8/site-packages/pandas/core/frame.py\u001b[0m in \u001b[0;36mstyle\u001b[0;34m(self)\u001b[0m\n\u001b[1;32m   1262\u001b[0m             \u001b[0mdata\u001b[0m \u001b[0;32mwith\u001b[0m \u001b[0mHTML\u001b[0m \u001b[0;32mand\u001b[0m \u001b[0mCSS\u001b[0m\u001b[0;34m.\u001b[0m\u001b[0;34m\u001b[0m\u001b[0;34m\u001b[0m\u001b[0m\n\u001b[1;32m   1263\u001b[0m         \"\"\"\n\u001b[0;32m-> 1264\u001b[0;31m         \u001b[0;32mfrom\u001b[0m \u001b[0mpandas\u001b[0m\u001b[0;34m.\u001b[0m\u001b[0mio\u001b[0m\u001b[0;34m.\u001b[0m\u001b[0mformats\u001b[0m\u001b[0;34m.\u001b[0m\u001b[0mstyle\u001b[0m \u001b[0;32mimport\u001b[0m \u001b[0mStyler\u001b[0m\u001b[0;34m\u001b[0m\u001b[0;34m\u001b[0m\u001b[0m\n\u001b[0m\u001b[1;32m   1265\u001b[0m \u001b[0;34m\u001b[0m\u001b[0m\n\u001b[1;32m   1266\u001b[0m         \u001b[0;32mreturn\u001b[0m \u001b[0mStyler\u001b[0m\u001b[0;34m(\u001b[0m\u001b[0mself\u001b[0m\u001b[0;34m)\u001b[0m\u001b[0;34m\u001b[0m\u001b[0;34m\u001b[0m\u001b[0m\n",
      "\u001b[0;32m~/anaconda3/lib/python3.8/site-packages/pandas/io/formats/style.py\u001b[0m in \u001b[0;36m<module>\u001b[0;34m\u001b[0m\n\u001b[1;32m     54\u001b[0m \u001b[0;32mfrom\u001b[0m \u001b[0mpandas\u001b[0m\u001b[0;34m.\u001b[0m\u001b[0mio\u001b[0m\u001b[0;34m.\u001b[0m\u001b[0mformats\u001b[0m\u001b[0;34m.\u001b[0m\u001b[0mformat\u001b[0m \u001b[0;32mimport\u001b[0m \u001b[0msave_to_buffer\u001b[0m\u001b[0;34m\u001b[0m\u001b[0;34m\u001b[0m\u001b[0m\n\u001b[1;32m     55\u001b[0m \u001b[0;34m\u001b[0m\u001b[0m\n\u001b[0;32m---> 56\u001b[0;31m \u001b[0mjinja2\u001b[0m \u001b[0;34m=\u001b[0m \u001b[0mimport_optional_dependency\u001b[0m\u001b[0;34m(\u001b[0m\u001b[0;34m\"jinja2\"\u001b[0m\u001b[0;34m,\u001b[0m \u001b[0mextra\u001b[0m\u001b[0;34m=\u001b[0m\u001b[0;34m\"DataFrame.style requires jinja2.\"\u001b[0m\u001b[0;34m)\u001b[0m\u001b[0;34m\u001b[0m\u001b[0;34m\u001b[0m\u001b[0m\n\u001b[0m\u001b[1;32m     57\u001b[0m \u001b[0;34m\u001b[0m\u001b[0m\n\u001b[1;32m     58\u001b[0m from pandas.io.formats.style_render import (\n",
      "\u001b[0;32m~/anaconda3/lib/python3.8/site-packages/pandas/compat/_optional.py\u001b[0m in \u001b[0;36mimport_optional_dependency\u001b[0;34m(name, extra, errors, min_version)\u001b[0m\n\u001b[1;32m    169\u001b[0m                 \u001b[0;32mreturn\u001b[0m \u001b[0;32mNone\u001b[0m\u001b[0;34m\u001b[0m\u001b[0;34m\u001b[0m\u001b[0m\n\u001b[1;32m    170\u001b[0m             \u001b[0;32melif\u001b[0m \u001b[0merrors\u001b[0m \u001b[0;34m==\u001b[0m \u001b[0;34m\"raise\"\u001b[0m\u001b[0;34m:\u001b[0m\u001b[0;34m\u001b[0m\u001b[0;34m\u001b[0m\u001b[0m\n\u001b[0;32m--> 171\u001b[0;31m                 \u001b[0;32mraise\u001b[0m \u001b[0mImportError\u001b[0m\u001b[0;34m(\u001b[0m\u001b[0mmsg\u001b[0m\u001b[0;34m)\u001b[0m\u001b[0;34m\u001b[0m\u001b[0;34m\u001b[0m\u001b[0m\n\u001b[0m\u001b[1;32m    172\u001b[0m \u001b[0;34m\u001b[0m\u001b[0m\n\u001b[1;32m    173\u001b[0m     \u001b[0;32mreturn\u001b[0m \u001b[0mmodule\u001b[0m\u001b[0;34m\u001b[0m\u001b[0;34m\u001b[0m\u001b[0m\n",
      "\u001b[0;31mImportError\u001b[0m: Pandas requires version '3.0.0' or newer of 'jinja2' (version '2.11.2' currently installed)."
     ]
    }
   ],
   "source": [
    "models = [\"XGB classifier\", \"K-Nearest Neighbours\",\"Random Forest classifier\",\"Logistic regression\", 'Neural network']\n",
    "crs = [cr_XGB_case1, cr_KNN_case1, cr_RF_case1, cr_LR_case1, cr_NN_case1]\n",
    "colors = [\"#845EC2\", \"#D65DB1\", \"#FF6F91\", \"#FF9671\", \"#FFC75F\", \"#008F7A\", \"#F9F871\"]\n",
    "\n",
    "failure_precision_score = comp_failure_scores(models, crs, metric=\"precision\")\n",
    "failure_precision_score.style.background_gradient(cmap='YlOrRd').hide_index()"
   ]
  },
  {
   "cell_type": "code",
   "execution_count": null,
   "metadata": {
    "tags": []
   },
   "outputs": [],
   "source": [
    "failure_precision_score.plot.bar(figsize=(10,6), color=colors)\n",
    "#plt.title(\"Precision Scores of Detecting Different componant Failure Based on Model\", fontweight=\"bold\")\n",
    "plt.xlabel(\"Model\")\n",
    "plt.ylabel(\"Precision\")\n",
    "plt.xticks([i for i in range(len(models))], models, rotation='vertical')\n",
    "plt.legend(loc='center left', bbox_to_anchor=(1, 0.5))"
   ]
  },
  {
   "cell_type": "markdown",
   "metadata": {},
   "source": [
    "#### Recall scores"
   ]
  },
  {
   "cell_type": "code",
   "execution_count": null,
   "metadata": {
    "tags": []
   },
   "outputs": [],
   "source": [
    "failure_recall_score = comp_failure_scores(models, crs, metric=\"recall\")\n",
    "failure_recall_score.style.background_gradient(cmap='YlOrRd').hide_index()"
   ]
  },
  {
   "cell_type": "code",
   "execution_count": null,
   "metadata": {
    "tags": []
   },
   "outputs": [],
   "source": [
    "failure_recall_score.plot.bar(figsize=(10,6), color=colors)\n",
    "#plt.title(\"Recall Scores of Detecting Different componant Failure Based on Model\", fontweight=\"bold\")\n",
    "plt.xlabel(\"Model\")\n",
    "plt.ylabel(\"Recall\")\n",
    "plt.xticks([i for i in range(len(models))], models, rotation='vertical')\n",
    "plt.legend(loc='center left', bbox_to_anchor=(1, 0.5))"
   ]
  },
  {
   "cell_type": "markdown",
   "metadata": {},
   "source": [
    "#### F1-scores"
   ]
  },
  {
   "cell_type": "code",
   "execution_count": null,
   "metadata": {
    "tags": []
   },
   "outputs": [],
   "source": [
    "failure_f1_score = comp_failure_scores(models, crs, metric=\"f1-score\")\n",
    "failure_f1_score.style.background_gradient(cmap='YlOrRd').hide_index()"
   ]
  },
  {
   "cell_type": "code",
   "execution_count": null,
   "metadata": {
    "tags": []
   },
   "outputs": [],
   "source": [
    "failure_f1_score.plot.bar(figsize=(10,6), color=colors)\n",
    "#plt.title(\"F1 Scores of Detecting Different componant Failure Based on Model\", fontweight=\"bold\")\n",
    "plt.xlabel(\"Model\")\n",
    "plt.ylabel(\"F1-score\")\n",
    "plt.xticks([i for i in range(len(models))], models, rotation='vertical')\n",
    "plt.legend(loc='center left', bbox_to_anchor=(1, 0.5))"
   ]
  },
  {
   "cell_type": "markdown",
   "metadata": {},
   "source": [
    "### Conclusion"
   ]
  },
  {
   "cell_type": "markdown",
   "metadata": {},
   "source": [
    "- The models have done pretty good job in prediction even without any hyperparameter tuning.\n",
    "- The models give better predictions for case 1 data labeling comparing to case 2.\n",
    "- Considering case 1 we can notice that the K_Nearset Neighbour has the lost scores. And the scores for comp 1 failure prediction are the lowest for all models.\n",
    "- For case 2, the k_Nearest neighbors give the best precision and the XGB give the worst.\n",
    "- For case 2,  the XGB give better recall score than the others model. Both k_Nearest Neighbour and the logistic regrssion give almost same recall scores.\n",
    "- Here the lable encoder is used for encoding y_train and y_test. The one-hot encoder is also used (results are in the file 'ML_hotEnco'). The one_hot enconder is not applied for logitic regression model as it requires 1D array for y-train. The method of encoding, for case1, does not affect the metrics for KNN and for RF, whereas the recall for XGB is slightly lower for comp 1 prediction when using the one_hot encoder. Howevere, a silight difference can be seen in case 2. For case 2, the precision vlaues are a bit higher and the recall values are a bit lower when the one_hot encoder is used for XGB and RF models, while similar results are shown for the KNN model.  "
   ]
  }
 ],
 "metadata": {
  "kernelspec": {
   "display_name": "Python 3",
   "language": "python",
   "name": "python3"
  },
  "language_info": {
   "codemirror_mode": {
    "name": "ipython",
    "version": 3
   },
   "file_extension": ".py",
   "mimetype": "text/x-python",
   "name": "python",
   "nbconvert_exporter": "python",
   "pygments_lexer": "ipython3",
   "version": "3.8.5"
  }
 },
 "nbformat": 4,
 "nbformat_minor": 5
}
